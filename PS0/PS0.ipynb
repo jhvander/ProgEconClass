{
 "cells": [
  {
   "cell_type": "markdown",
   "id": "231939ae",
   "metadata": {},
   "source": [
    "# Problem Set 0"
   ]
  },
  {
   "cell_type": "markdown",
   "id": "919b4883",
   "metadata": {},
   "source": [
    "$\\textbf{Slicing}$"
   ]
  },
  {
   "cell_type": "code",
   "execution_count": null,
   "id": "0dab3d3c",
   "metadata": {},
   "outputs": [
    {
     "name": "stdout",
     "output_type": "stream",
     "text": [
      "[0, 1]\n",
      "[2, 3, 4, 5]\n",
      "5\n"
     ]
    }
   ],
   "source": [
    "x = [0,1,2,3,4,5] # Creates list\n",
    "print(x[:2]) # Prints first two entries\n",
    "print(x[2:]) # Prints last 4 entries\n",
    "\n",
    "print(x[-1]) # Prints the last entry"
   ]
  },
  {
   "cell_type": "markdown",
   "id": "da7ea909",
   "metadata": {},
   "source": [
    "$\\textbf{References}$"
   ]
  },
  {
   "cell_type": "code",
   "execution_count": 15,
   "id": "a035fe14",
   "metadata": {},
   "outputs": [
    {
     "name": "stdout",
     "output_type": "stream",
     "text": [
      "[1, 2, 4]\n"
     ]
    }
   ],
   "source": [
    "x = [1,2,3] # Iniate a list \n",
    "y = x # Create a new variable name for the list\n",
    "y[-1] = 4 # Change the last entry of the list \n",
    "print(x) "
   ]
  },
  {
   "cell_type": "markdown",
   "id": "ee329753",
   "metadata": {},
   "source": [
    "$\\textbf{More on references}$\n",
    "\n",
    "To ensure that modifications to the variable y do not affect x, it's necessary to create a copy of x and assign it to y.\n",
    "This way, y becomes an independent entity, allowing changes to be made to y without altering x"
   ]
  },
  {
   "cell_type": "code",
   "execution_count": 16,
   "id": "1bb0986c",
   "metadata": {},
   "outputs": [
    {
     "name": "stdout",
     "output_type": "stream",
     "text": [
      "[1, 2, 3]\n",
      "[1, 2, 4]\n"
     ]
    }
   ],
   "source": [
    "x = [1, 2, 3] # Define a list\n",
    "y = x.copy() # Define a variable y which copies the list of x\n",
    "\n",
    "\n",
    "y[-1] = 4 # Alter the last entry of y\n",
    "\n",
    "# print x\n",
    "print(x)\n",
    "\n",
    "# print y\n",
    "print(y)"
   ]
  },
  {
   "cell_type": "markdown",
   "id": "2703e120",
   "metadata": {},
   "source": [
    "$\\textbf{Loops - Break}$"
   ]
  },
  {
   "cell_type": "code",
   "execution_count": null,
   "id": "36a255d0",
   "metadata": {},
   "outputs": [
    {
     "name": "stdout",
     "output_type": "stream",
     "text": [
      "0\n",
      "1\n"
     ]
    }
   ],
   "source": [
    "# Define a range, a range starts a 0 with stepsize 1 if not specified\n",
    "for i in range(5):\n",
    "    \n",
    "    # if i is more or equal to the third element in the range break\n",
    "    if i >= 2: break\n",
    "\n",
    "    # while i is less than the third element print i\n",
    "    print(i)"
   ]
  },
  {
   "cell_type": "markdown",
   "id": "ae9c1445",
   "metadata": {},
   "source": [
    "$\\textbf{Loops - Continue}$"
   ]
  },
  {
   "cell_type": "code",
   "execution_count": 19,
   "id": "77d53125",
   "metadata": {},
   "outputs": [
    {
     "name": "stdout",
     "output_type": "stream",
     "text": [
      "0\n",
      "1\n",
      "3\n",
      "4\n"
     ]
    }
   ],
   "source": [
    "# Define a range, starts a 0 with stepsize 1 if not specified\n",
    "for i in range(5):\n",
    "    \n",
    "    # If i is equal to 2 end the current iteration and move on to the next\n",
    "    if i == 2: continue\n",
    "    \n",
    "    # While i is not 2 print i\n",
    "    print(i)"
   ]
  },
  {
   "cell_type": "markdown",
   "id": "5c71cc33",
   "metadata": {},
   "source": [
    "$\\textbf{Conditional(Known as IF-statements)}$"
   ]
  },
  {
   "cell_type": "code",
   "execution_count": 25,
   "id": "623e0e7f",
   "metadata": {},
   "outputs": [
    {
     "name": "stdout",
     "output_type": "stream",
     "text": [
      "just right\n"
     ]
    }
   ],
   "source": [
    "# Define a variable x and set it equal to 3\n",
    "x = 3\n",
    "\n",
    "# Create an IF-statement\n",
    "if x > 3:\n",
    "    print('too big')\n",
    "elif x < 1:\n",
    "    print('too small')\n",
    "else:\n",
    "    print('just right')"
   ]
  },
  {
   "cell_type": "markdown",
   "id": "b2bcffde",
   "metadata": {},
   "source": [
    "$\\textbf{Functions and scope}$"
   ]
  },
  {
   "cell_type": "code",
   "execution_count": 27,
   "id": "7d33d84e",
   "metadata": {},
   "outputs": [
    {
     "name": "stdout",
     "output_type": "stream",
     "text": [
      "2\n",
      "2\n",
      "3\n",
      "2\n"
     ]
    }
   ],
   "source": [
    "a = 1\n",
    "def f(x):\n",
    "    return x+a # a is global variable\n",
    "def g(x,a=1):\n",
    "    return x+a # a is local variable (Stronger condition and safer)\n",
    "print(f(1))\n",
    "print(g(1))\n",
    "\n",
    "a = 2\n",
    "print(f(1))\n",
    "print(g(1))\n"
   ]
  },
  {
   "cell_type": "markdown",
   "id": "4711a7e0",
   "metadata": {},
   "source": [
    "$\\textbf{Numpy}$"
   ]
  },
  {
   "cell_type": "code",
   "execution_count": null,
   "id": "0385fb89",
   "metadata": {},
   "outputs": [
    {
     "name": "stdout",
     "output_type": "stream",
     "text": [
      "[2 3 4]\n",
      "[3 4 5]\n",
      "[4 5 6]\n"
     ]
    }
   ],
   "source": [
    "import numpy as np              # Import NumPy library\n",
    "\n",
    "x = np.array([1, 2, 3])         # Create a NumPy array \n",
    "y = x                           # y references the same array as x\n",
    "\n",
    "x += 1                          # In-place addition: x becomes [2 3 4]\n",
    "print(y)                        # y shows [2 3 4] since it shares the array\n",
    "\n",
    "x[:] = x + 1                    # In-place update: x becomes [3 4 5]\n",
    "print(y)                        # y shows [3 4 5] (same object as x)\n",
    "\n",
    "x = x + 1                       # New array created: x becomes [4 5 6]\n",
    "print(y)                        # y still points to old array [3 4 5]"
   ]
  },
  {
   "cell_type": "markdown",
   "id": "4b70ed0e",
   "metadata": {},
   "source": [
    "$\\textbf{Classes}$"
   ]
  },
  {
   "cell_type": "code",
   "execution_count": null,
   "id": "73f407ad",
   "metadata": {},
   "outputs": [],
   "source": [
    "# Define a class named SquareClass to represent squares.\n",
    "class SquareClass:\n",
    "    # The __init__ method is a special method called a constructor. It is automatically\n",
    "    # invoked when a new instance of the class is created. The purpose of this method\n",
    "    # is to initialize the newly created object's state.\n",
    "    def __init__(self, length, width):\n",
    "        # `self` represents the instance of the class. It is the first argument to the\n",
    "        # methods of a class. Using `self`, we can access the attributes and methods of\n",
    "        # the class in Python. It binds the attributes with the given arguments.\n",
    "        \n",
    "        # `self.length` and `self.width` are instance variables. They are being\n",
    "        # initialized with the values passed to the __init__ method upon the object's\n",
    "        # creation. This allows each instance of SquareClass to have its own length and\n",
    "        # width values.\n",
    "        self.length = length\n",
    "        self.width = width\n",
    "    \n",
    "    # This is an instance method that calculates and returns the area of the square.\n",
    "    # Instance methods need a reference to the specific object instance (self) to access\n",
    "    # its attributes and other methods. This method uses `self.length` and `self.width`\n",
    "    # to access the square's length and width that were stored in the instance variables\n",
    "    # when the object was instantiated.\n",
    "    def size(self):\n",
    "        return self.length * self.width\n",
    "\n",
    "# Creating an instance (object) of the SquareClass. This action calls the __init__ method\n",
    "# of SquareClass with `length=2` and `width=2`, initializing the new square object's\n",
    "# attributes with these values. The variable `square` now refers to this new object.\n",
    "square = SquareClass(2, 2)\n",
    "\n",
    "# Print the area of the square. This calls the size method of the object referred to by\n",
    "# `square`, which calculates the area based on the object's length and width attributes.\n",
    "print(square.size())"
   ]
  },
  {
   "cell_type": "markdown",
   "id": "8406f33e",
   "metadata": {},
   "source": [
    "$\\textbf{Lets try CoPilot!}$"
   ]
  },
  {
   "cell_type": "code",
   "execution_count": null,
   "id": "9200d8cc",
   "metadata": {},
   "outputs": [],
   "source": [
    "import numpy as np\n",
    "x = np.array ([2,5,10,2,4])\n",
    "# sort and print\n"
   ]
  }
 ],
 "metadata": {
  "kernelspec": {
   "display_name": "3.10.11",
   "language": "python",
   "name": "python3"
  },
  "language_info": {
   "codemirror_mode": {
    "name": "ipython",
    "version": 3
   },
   "file_extension": ".py",
   "mimetype": "text/x-python",
   "name": "python",
   "nbconvert_exporter": "python",
   "pygments_lexer": "ipython3",
   "version": "3.10.11"
  }
 },
 "nbformat": 4,
 "nbformat_minor": 5
}
