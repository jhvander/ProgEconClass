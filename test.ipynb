{
 "cells": [
  {
   "cell_type": "code",
   "execution_count": null,
   "id": "c8d09a0e",
   "metadata": {},
   "outputs": [
    {
     "name": "stdout",
     "output_type": "stream",
     "text": [
      "2000-01-01    10002.179\n",
      "2000-04-01    10247.720\n",
      "2000-07-01    10318.165\n",
      "2000-10-01    10435.744\n",
      "2001-01-01    10470.231\n",
      "                ...    \n",
      "2024-04-01    29147.044\n",
      "2024-07-01    29511.664\n",
      "2024-10-01    29825.182\n",
      "2025-01-01    30042.113\n",
      "2025-04-01    30485.729\n",
      "Length: 102, dtype: float64\n"
     ]
    }
   ],
   "source": [
    "import pandas as pd\n",
    "import datetime as dt\n",
    "\n",
    "from fredapi import Fred \n",
    "\n",
    "fred_api_key = '18cb197f2b426f9135dae80f55e003c4'\n",
    "fred = Fred(api_key=fred_api_key) \n",
    "gdp = fred.get_series('GDP', observation_start='2000-01-01')\n",
    "print(gdp)\n", 
    "rded = 2"
   ]
  },
  {
   "cell_type": "code",
   "execution_count": null,
   "id": "bc7f0f2f",
   "metadata": {},
   "outputs": [],
   "source": [
    "# Writing more code \n",
    "# to fetch data from FRED\n",
    "gdp = fred.get_series('GDP', observation_start='2000-01-01')\n",
    "print(gdp.head())\n"
   ]
  }
 ],
 "metadata": {
  "kernelspec": {
   "display_name": "3.10.11",
   "language": "python",
   "name": "python3"
  },
  "language_info": {
   "codemirror_mode": {
    "name": "ipython",
    "version": 3
   },
   "file_extension": ".py",
   "mimetype": "text/x-python",
   "name": "python",
   "nbconvert_exporter": "python",
   "pygments_lexer": "ipython3",
   "version": "3.10.11"
  }
 },
 "nbformat": 4,
 "nbformat_minor": 5
}
