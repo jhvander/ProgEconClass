{
 "cells": [
  {
   "cell_type": "code",
   "execution_count": 1,
   "id": "c8d09a0e",
   "metadata": {},
   "outputs": [],
   "source": [
    "import pandas as pd\n",
    "import datetime as dt\n",
    "\n",
    "from fredapi import Fred \n",
    "\n",
    "fred_api_key = '18cb197f2b426f9135dae80f55e003c4'\n",
    "fred = Fred(api_key=fred_api_key)"
   ]
  }
 ],
 "metadata": {
  "kernelspec": {
   "display_name": "base",
   "language": "python",
   "name": "python3"
  },
  "language_info": {
   "codemirror_mode": {
    "name": "ipython",
    "version": 3
   },
   "file_extension": ".py",
   "mimetype": "text/x-python",
   "name": "python",
   "nbconvert_exporter": "python",
   "pygments_lexer": "ipython3",
   "version": "3.12.7"
  }
 },
 "nbformat": 4,
 "nbformat_minor": 5
}
