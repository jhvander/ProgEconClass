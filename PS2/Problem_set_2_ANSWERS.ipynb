{
 "cells": [
  {
   "cell_type": "markdown",
   "metadata": {},
   "source": [
    "# Problem set 2: Descriptive economics"
   ]
  },
  {
   "cell_type": "markdown",
   "metadata": {},
   "source": [
    "**Table of contents**<a id='toc0_'></a>    \n",
    "- 1. [Basic pandas](#toc1_)    \n",
    "  - 1.1. [Dataframe](#toc1_1_)    \n",
    "  - 1.2. [New variable](#toc1_2_)    \n",
    "  - 1.3. [Indexing](#toc1_3_)    \n",
    "  - 1.4. [Changing variables](#toc1_4_)    \n",
    "  - 1.5. [Dropping observations and columns](#toc1_5_)    \n",
    "  - 1.6. [Renaming](#toc1_6_)    \n",
    "  - 1.7. [Income distribution](#toc1_7_)    \n",
    "- 2. [National account identity](#toc2_)    \n",
    "  - 2.1. [Download](#toc2_1_)    \n",
    "  - 2.2. [Merge](#toc2_2_)    \n",
    "  - 2.3. [Split-apply-combine-plot](#toc2_3_)    \n",
    "\n",
    "<!-- vscode-jupyter-toc-config\n",
    "\tnumbering=true\n",
    "\tanchor=true\n",
    "\tflat=false\n",
    "\tminLevel=2\n",
    "\tmaxLevel=6\n",
    "\t/vscode-jupyter-toc-config -->\n",
    "<!-- THIS CELL WILL BE REPLACED ON TOC UPDATE. DO NOT WRITE YOUR TEXT IN THIS CELL -->"
   ]
  },
  {
   "cell_type": "code",
   "execution_count": 48,
   "metadata": {},
   "outputs": [],
   "source": [
    "# Uncomment this to install the needed packages on your laptop. You can mark it all, and pres Cmd+Shift+7. \n",
    "# After you have installed this, you can comment it out again. You may need to restart your kernel after installation. Just press \"Restart\" in the toolbar above.\n",
    "\n",
    "# %pip install git+https://github.com/alemartinello/dstapi\n",
    "# %pip install fredapi"
   ]
  },
  {
   "cell_type": "code",
   "execution_count": 49,
   "metadata": {},
   "outputs": [],
   "source": [
    "import numpy as np\n",
    "import pandas as pd\n",
    "from IPython.display import display\n",
    "\n",
    "import matplotlib.pyplot as plt\n",
    "plt.rcParams.update({'axes.grid':True,'grid.color':'black','grid.alpha':'0.25','grid.linestyle':'--'})\n",
    "plt.rcParams.update({'font.size': 14})\n",
    "\n",
    "from dstapi import DstApi"
   ]
  },
  {
   "cell_type": "markdown",
   "metadata": {},
   "source": [
    "## 1. <a id='toc1_'></a>[Basic pandas](#toc0_)"
   ]
  },
  {
   "cell_type": "markdown",
   "metadata": {},
   "source": [
    "The first part of the exercises today can somewhat be found in the 05_06_DescriptivEconomics -> 01_Bacics.ipynb"
   ]
  },
  {
   "cell_type": "markdown",
   "metadata": {},
   "source": [
    "### 1.1. <a id='toc1_1_'></a>[Dataframe](#toc0_)"
   ]
  },
  {
   "cell_type": "markdown",
   "metadata": {},
   "source": [
    "Modify the code below such that *income* and *consumption* are variables in the *df* DataFrame. The variables are generated randomly through a RNG with N entries.  Assume that consumption is $consumption = \\sqrt{income}$. \n",
    "\n",
    "The idea is to add/change the entries of the dictionary instead of creating new variables. This keeps the data collected in a single placeholder"
   ]
  },
  {
   "cell_type": "code",
   "execution_count": 50,
   "metadata": {},
   "outputs": [
    {
     "data": {
      "text/html": [
       "<div>\n",
       "<style scoped>\n",
       "    .dataframe tbody tr th:only-of-type {\n",
       "        vertical-align: middle;\n",
       "    }\n",
       "\n",
       "    .dataframe tbody tr th {\n",
       "        vertical-align: top;\n",
       "    }\n",
       "\n",
       "    .dataframe thead th {\n",
       "        text-align: right;\n",
       "    }\n",
       "</style>\n",
       "<table border=\"1\" class=\"dataframe\">\n",
       "  <thead>\n",
       "    <tr style=\"text-align: right;\">\n",
       "      <th></th>\n",
       "      <th>id</th>\n",
       "      <th>income</th>\n",
       "      <th>consumption</th>\n",
       "    </tr>\n",
       "  </thead>\n",
       "  <tbody>\n",
       "    <tr>\n",
       "      <th>0</th>\n",
       "      <td>0</td>\n",
       "      <td>0.727981</td>\n",
       "      <td>0.853218</td>\n",
       "    </tr>\n",
       "    <tr>\n",
       "      <th>1</th>\n",
       "      <td>1</td>\n",
       "      <td>1.997831</td>\n",
       "      <td>1.413447</td>\n",
       "    </tr>\n",
       "    <tr>\n",
       "      <th>2</th>\n",
       "      <td>2</td>\n",
       "      <td>0.276823</td>\n",
       "      <td>0.526140</td>\n",
       "    </tr>\n",
       "    <tr>\n",
       "      <th>3</th>\n",
       "      <td>3</td>\n",
       "      <td>1.481931</td>\n",
       "      <td>1.217346</td>\n",
       "    </tr>\n",
       "    <tr>\n",
       "      <th>4</th>\n",
       "      <td>4</td>\n",
       "      <td>1.235904</td>\n",
       "      <td>1.111712</td>\n",
       "    </tr>\n",
       "  </tbody>\n",
       "</table>\n",
       "</div>"
      ],
      "text/plain": [
       "   id    income  consumption\n",
       "0   0  0.727981     0.853218\n",
       "1   1  1.997831     1.413447\n",
       "2   2  0.276823     0.526140\n",
       "3   3  1.481931     1.217346\n",
       "4   4  1.235904     1.111712"
      ]
     },
     "execution_count": 50,
     "metadata": {},
     "output_type": "execute_result"
    }
   ],
   "source": [
    "np.random.seed(1999) # Set the random seed so that we all get the same results\n",
    " \n",
    "N = 100\n",
    "mydata = {} # Here we create an empty dictionary\n",
    "mydata['id'] = range(N) # We create a variable 'id' with values 0,1,...,N-1. Think of this as N persons\n",
    "mydata['income'] = np.exp(np.random.normal(size=N)) \n",
    "mydata['consumption'] = np.sqrt(mydata['income'])\n",
    "\n",
    "df = pd.DataFrame(mydata)\n",
    "df.head()"
   ]
  },
  {
   "cell_type": "code",
   "execution_count": 51,
   "metadata": {},
   "outputs": [
    {
     "data": {
      "text/html": [
       "<div>\n",
       "<style scoped>\n",
       "    .dataframe tbody tr th:only-of-type {\n",
       "        vertical-align: middle;\n",
       "    }\n",
       "\n",
       "    .dataframe tbody tr th {\n",
       "        vertical-align: top;\n",
       "    }\n",
       "\n",
       "    .dataframe thead th {\n",
       "        text-align: right;\n",
       "    }\n",
       "</style>\n",
       "<table border=\"1\" class=\"dataframe\">\n",
       "  <thead>\n",
       "    <tr style=\"text-align: right;\">\n",
       "      <th></th>\n",
       "      <th>id</th>\n",
       "      <th>income</th>\n",
       "      <th>consumption</th>\n",
       "    </tr>\n",
       "  </thead>\n",
       "  <tbody>\n",
       "    <tr>\n",
       "      <th>0</th>\n",
       "      <td>0</td>\n",
       "      <td>0.727981</td>\n",
       "      <td>0.853218</td>\n",
       "    </tr>\n",
       "    <tr>\n",
       "      <th>1</th>\n",
       "      <td>1</td>\n",
       "      <td>1.997831</td>\n",
       "      <td>1.413447</td>\n",
       "    </tr>\n",
       "    <tr>\n",
       "      <th>2</th>\n",
       "      <td>2</td>\n",
       "      <td>0.276823</td>\n",
       "      <td>0.526140</td>\n",
       "    </tr>\n",
       "    <tr>\n",
       "      <th>3</th>\n",
       "      <td>3</td>\n",
       "      <td>1.481931</td>\n",
       "      <td>1.217346</td>\n",
       "    </tr>\n",
       "    <tr>\n",
       "      <th>4</th>\n",
       "      <td>4</td>\n",
       "      <td>1.235904</td>\n",
       "      <td>1.111712</td>\n",
       "    </tr>\n",
       "    <tr>\n",
       "      <th>...</th>\n",
       "      <td>...</td>\n",
       "      <td>...</td>\n",
       "      <td>...</td>\n",
       "    </tr>\n",
       "    <tr>\n",
       "      <th>95</th>\n",
       "      <td>95</td>\n",
       "      <td>0.201856</td>\n",
       "      <td>0.449284</td>\n",
       "    </tr>\n",
       "    <tr>\n",
       "      <th>96</th>\n",
       "      <td>96</td>\n",
       "      <td>2.368034</td>\n",
       "      <td>1.538842</td>\n",
       "    </tr>\n",
       "    <tr>\n",
       "      <th>97</th>\n",
       "      <td>97</td>\n",
       "      <td>2.389874</td>\n",
       "      <td>1.545922</td>\n",
       "    </tr>\n",
       "    <tr>\n",
       "      <th>98</th>\n",
       "      <td>98</td>\n",
       "      <td>1.488635</td>\n",
       "      <td>1.220096</td>\n",
       "    </tr>\n",
       "    <tr>\n",
       "      <th>99</th>\n",
       "      <td>99</td>\n",
       "      <td>0.360234</td>\n",
       "      <td>0.600195</td>\n",
       "    </tr>\n",
       "  </tbody>\n",
       "</table>\n",
       "<p>100 rows × 3 columns</p>\n",
       "</div>"
      ],
      "text/plain": [
       "    id    income  consumption\n",
       "0    0  0.727981     0.853218\n",
       "1    1  1.997831     1.413447\n",
       "2    2  0.276823     0.526140\n",
       "3    3  1.481931     1.217346\n",
       "4    4  1.235904     1.111712\n",
       "..  ..       ...          ...\n",
       "95  95  0.201856     0.449284\n",
       "96  96  2.368034     1.538842\n",
       "97  97  2.389874     1.545922\n",
       "98  98  1.488635     1.220096\n",
       "99  99  0.360234     0.600195\n",
       "\n",
       "[100 rows x 3 columns]"
      ]
     },
     "metadata": {},
     "output_type": "display_data"
    }
   ],
   "source": [
    "display(df)"
   ]
  },
  {
   "cell_type": "markdown",
   "metadata": {},
   "source": [
    "### 1.2. <a id='toc1_2_'></a>[New variable](#toc0_)"
   ]
  },
  {
   "cell_type": "markdown",
   "metadata": {},
   "source": [
    "Create a new variable *ratio* which is the ratio of consumption to income. Remember, try to use indexing on your current dataset *df* instead of creating a new variable"
   ]
  },
  {
   "cell_type": "code",
   "execution_count": 52,
   "metadata": {},
   "outputs": [
    {
     "data": {
      "text/html": [
       "<div>\n",
       "<style scoped>\n",
       "    .dataframe tbody tr th:only-of-type {\n",
       "        vertical-align: middle;\n",
       "    }\n",
       "\n",
       "    .dataframe tbody tr th {\n",
       "        vertical-align: top;\n",
       "    }\n",
       "\n",
       "    .dataframe thead th {\n",
       "        text-align: right;\n",
       "    }\n",
       "</style>\n",
       "<table border=\"1\" class=\"dataframe\">\n",
       "  <thead>\n",
       "    <tr style=\"text-align: right;\">\n",
       "      <th></th>\n",
       "      <th>id</th>\n",
       "      <th>income</th>\n",
       "      <th>consumption</th>\n",
       "      <th>ratio</th>\n",
       "    </tr>\n",
       "  </thead>\n",
       "  <tbody>\n",
       "    <tr>\n",
       "      <th>0</th>\n",
       "      <td>0</td>\n",
       "      <td>0.727981</td>\n",
       "      <td>0.853218</td>\n",
       "      <td>1.172033</td>\n",
       "    </tr>\n",
       "    <tr>\n",
       "      <th>1</th>\n",
       "      <td>1</td>\n",
       "      <td>1.997831</td>\n",
       "      <td>1.413447</td>\n",
       "      <td>0.707490</td>\n",
       "    </tr>\n",
       "    <tr>\n",
       "      <th>2</th>\n",
       "      <td>2</td>\n",
       "      <td>0.276823</td>\n",
       "      <td>0.526140</td>\n",
       "      <td>1.900636</td>\n",
       "    </tr>\n",
       "    <tr>\n",
       "      <th>3</th>\n",
       "      <td>3</td>\n",
       "      <td>1.481931</td>\n",
       "      <td>1.217346</td>\n",
       "      <td>0.821459</td>\n",
       "    </tr>\n",
       "    <tr>\n",
       "      <th>4</th>\n",
       "      <td>4</td>\n",
       "      <td>1.235904</td>\n",
       "      <td>1.111712</td>\n",
       "      <td>0.899513</td>\n",
       "    </tr>\n",
       "  </tbody>\n",
       "</table>\n",
       "</div>"
      ],
      "text/plain": [
       "   id    income  consumption     ratio\n",
       "0   0  0.727981     0.853218  1.172033\n",
       "1   1  1.997831     1.413447  0.707490\n",
       "2   2  0.276823     0.526140  1.900636\n",
       "3   3  1.481931     1.217346  0.821459\n",
       "4   4  1.235904     1.111712  0.899513"
      ]
     },
     "execution_count": 52,
     "metadata": {},
     "output_type": "execute_result"
    }
   ],
   "source": [
    "df['ratio'] = df['consumption'] / df['income']\n",
    "df.head()"
   ]
  },
  {
   "cell_type": "markdown",
   "metadata": {},
   "source": [
    "### 1.3. <a id='toc1_3_'></a>[Indexing](#toc0_)"
   ]
  },
  {
   "cell_type": "markdown",
   "metadata": {},
   "source": [
    "**Question a:** Select everybody: with an income above 1.\n",
    "\n",
    "Create a constraint and then apply it to your dataset. Then use the .loc in pandas to locate places, where the contraint, should hold"
   ]
  },
  {
   "cell_type": "code",
   "execution_count": 53,
   "metadata": {},
   "outputs": [
    {
     "data": {
      "text/html": [
       "<div>\n",
       "<style scoped>\n",
       "    .dataframe tbody tr th:only-of-type {\n",
       "        vertical-align: middle;\n",
       "    }\n",
       "\n",
       "    .dataframe tbody tr th {\n",
       "        vertical-align: top;\n",
       "    }\n",
       "\n",
       "    .dataframe thead th {\n",
       "        text-align: right;\n",
       "    }\n",
       "</style>\n",
       "<table border=\"1\" class=\"dataframe\">\n",
       "  <thead>\n",
       "    <tr style=\"text-align: right;\">\n",
       "      <th></th>\n",
       "      <th>id</th>\n",
       "      <th>income</th>\n",
       "      <th>consumption</th>\n",
       "      <th>ratio</th>\n",
       "    </tr>\n",
       "  </thead>\n",
       "  <tbody>\n",
       "    <tr>\n",
       "      <th>1</th>\n",
       "      <td>1</td>\n",
       "      <td>1.997831</td>\n",
       "      <td>1.413447</td>\n",
       "      <td>0.707490</td>\n",
       "    </tr>\n",
       "    <tr>\n",
       "      <th>3</th>\n",
       "      <td>3</td>\n",
       "      <td>1.481931</td>\n",
       "      <td>1.217346</td>\n",
       "      <td>0.821459</td>\n",
       "    </tr>\n",
       "    <tr>\n",
       "      <th>4</th>\n",
       "      <td>4</td>\n",
       "      <td>1.235904</td>\n",
       "      <td>1.111712</td>\n",
       "      <td>0.899513</td>\n",
       "    </tr>\n",
       "    <tr>\n",
       "      <th>6</th>\n",
       "      <td>6</td>\n",
       "      <td>2.574032</td>\n",
       "      <td>1.604379</td>\n",
       "      <td>0.623294</td>\n",
       "    </tr>\n",
       "    <tr>\n",
       "      <th>7</th>\n",
       "      <td>7</td>\n",
       "      <td>2.475478</td>\n",
       "      <td>1.573365</td>\n",
       "      <td>0.635580</td>\n",
       "    </tr>\n",
       "  </tbody>\n",
       "</table>\n",
       "</div>"
      ],
      "text/plain": [
       "   id    income  consumption     ratio\n",
       "1   1  1.997831     1.413447  0.707490\n",
       "3   3  1.481931     1.217346  0.821459\n",
       "4   4  1.235904     1.111712  0.899513\n",
       "6   6  2.574032     1.604379  0.623294\n",
       "7   7  2.475478     1.573365  0.635580"
      ]
     },
     "execution_count": 53,
     "metadata": {},
     "output_type": "execute_result"
    }
   ],
   "source": [
    "I = df['income'] > 1\n",
    "df.loc[I, :].head()"
   ]
  },
  {
   "cell_type": "markdown",
   "metadata": {},
   "source": [
    "**Question b:** Select everybody with an income *above* 1 and a ratio *above* 0.7. \n",
    "\n",
    "Remember to put brackets around each constraint and use & to apply both constraint"
   ]
  },
  {
   "cell_type": "code",
   "execution_count": 54,
   "metadata": {},
   "outputs": [
    {
     "data": {
      "text/html": [
       "<div>\n",
       "<style scoped>\n",
       "    .dataframe tbody tr th:only-of-type {\n",
       "        vertical-align: middle;\n",
       "    }\n",
       "\n",
       "    .dataframe tbody tr th {\n",
       "        vertical-align: top;\n",
       "    }\n",
       "\n",
       "    .dataframe thead th {\n",
       "        text-align: right;\n",
       "    }\n",
       "</style>\n",
       "<table border=\"1\" class=\"dataframe\">\n",
       "  <thead>\n",
       "    <tr style=\"text-align: right;\">\n",
       "      <th></th>\n",
       "      <th>id</th>\n",
       "      <th>income</th>\n",
       "      <th>consumption</th>\n",
       "      <th>ratio</th>\n",
       "    </tr>\n",
       "  </thead>\n",
       "  <tbody>\n",
       "    <tr>\n",
       "      <th>1</th>\n",
       "      <td>1</td>\n",
       "      <td>1.997831</td>\n",
       "      <td>1.413447</td>\n",
       "      <td>0.707490</td>\n",
       "    </tr>\n",
       "    <tr>\n",
       "      <th>3</th>\n",
       "      <td>3</td>\n",
       "      <td>1.481931</td>\n",
       "      <td>1.217346</td>\n",
       "      <td>0.821459</td>\n",
       "    </tr>\n",
       "    <tr>\n",
       "      <th>4</th>\n",
       "      <td>4</td>\n",
       "      <td>1.235904</td>\n",
       "      <td>1.111712</td>\n",
       "      <td>0.899513</td>\n",
       "    </tr>\n",
       "    <tr>\n",
       "      <th>11</th>\n",
       "      <td>11</td>\n",
       "      <td>2.031708</td>\n",
       "      <td>1.425380</td>\n",
       "      <td>0.701567</td>\n",
       "    </tr>\n",
       "    <tr>\n",
       "      <th>18</th>\n",
       "      <td>18</td>\n",
       "      <td>1.280235</td>\n",
       "      <td>1.131475</td>\n",
       "      <td>0.883802</td>\n",
       "    </tr>\n",
       "  </tbody>\n",
       "</table>\n",
       "</div>"
      ],
      "text/plain": [
       "    id    income  consumption     ratio\n",
       "1    1  1.997831     1.413447  0.707490\n",
       "3    3  1.481931     1.217346  0.821459\n",
       "4    4  1.235904     1.111712  0.899513\n",
       "11  11  2.031708     1.425380  0.701567\n",
       "18  18  1.280235     1.131475  0.883802"
      ]
     },
     "execution_count": 54,
     "metadata": {},
     "output_type": "execute_result"
    }
   ],
   "source": [
    "I = (df['income'] > 1) & (df['ratio'] > 0.7)\n",
    "df.loc[I].head()"
   ]
  },
  {
   "cell_type": "markdown",
   "metadata": {},
   "source": [
    "### 1.4. <a id='toc1_4_'></a>[Changing variables](#toc0_)"
   ]
  },
  {
   "cell_type": "markdown",
   "metadata": {},
   "source": [
    "**Question a:** Set consumption equal to 0.5 if income is less than 0.5.\n",
    "\n",
    "Locate the places where the the contraints holds and the set it equal to 0.5. What is the mean? "
   ]
  },
  {
   "cell_type": "code",
   "execution_count": 55,
   "metadata": {},
   "outputs": [
    {
     "data": {
      "text/plain": [
       "1.075479712048503"
      ]
     },
     "execution_count": 55,
     "metadata": {},
     "output_type": "execute_result"
    }
   ],
   "source": [
    "I = (df['income'] < 0.5)\n",
    "df.loc[I, ['consumption']] = 0.5\n",
    "df['consumption'].mean()\n"
   ]
  },
  {
   "cell_type": "markdown",
   "metadata": {},
   "source": [
    "**Question b:** Set consumption equal to income if income is less than 0.5.\n",
    "\n",
    "Create a constraint. Use indexing of the variables to locate it, and then change the values using .values\n",
    "\n",
    "Does the mean of consumption change? Why is that? "
   ]
  },
  {
   "cell_type": "code",
   "execution_count": 56,
   "metadata": {},
   "outputs": [
    {
     "data": {
      "text/plain": [
       "1.0337728690050054"
      ]
     },
     "execution_count": 56,
     "metadata": {},
     "output_type": "execute_result"
    }
   ],
   "source": [
    "I = (df['income'] < 0.5)\n",
    "df.loc[I, ['consumption']] = df.loc[I, ['income']].values\n",
    "df['consumption'].mean()"
   ]
  },
  {
   "cell_type": "markdown",
   "metadata": {},
   "source": [
    "### 1.5. <a id='toc1_5_'></a>[Dropping observations and columns](#toc0_)"
   ]
  },
  {
   "cell_type": "markdown",
   "metadata": {},
   "source": [
    "Drop the *ratio* variable and all rows with an income above 1.5. After this, also drop the first 5 rows.\n",
    "\n",
    "You can find help in 05_06_DescriptiveEconomics -> 03_From_Excel\n",
    "\n",
    "\n",
    "*(NB: Do you see the use of f_strings?!?!?!?)*"
   ]
  },
  {
   "cell_type": "code",
   "execution_count": 57,
   "metadata": {},
   "outputs": [
    {
     "name": "stdout",
     "output_type": "stream",
     "text": [
      "before: 100 observations, 4 variables\n",
      "after: 65 observations, 3 variables\n"
     ]
    }
   ],
   "source": [
    "df_alt = df.copy()\n",
    "\n",
    "print(f'before: {df.shape[0]} observations, {df.shape[1]} variables')\n",
    "df = df.drop('ratio',axis=1)\n",
    "I = df['income'] > 1.5\n",
    "df = df.drop(df[I].index)\n",
    "df = df.drop(df.loc[:5].index)\n",
    "print(f'after: {df.shape[0]} observations, {df.shape[1]} variables')\n",
    "\n",
    "# # alternative: keep where I is false\n",
    "# del df_alt['ratio']\n",
    "# I = df_alt['income'] > 1.5\n",
    "# df_alt = df_alt[~I]\n",
    "# df_alt = df_alt.iloc[5:,:]\n",
    "# print(f'after (alt): {df_alt.shape[0]} observations, {df_alt.shape[1]} variables')"
   ]
  },
  {
   "cell_type": "markdown",
   "metadata": {},
   "source": [
    "### 1.6. <a id='toc1_6_'></a>[Renaming](#toc0_)"
   ]
  },
  {
   "cell_type": "markdown",
   "metadata": {},
   "source": [
    "Rename *consumption* to *cons* and *income* to *inc*.\n",
    "\n",
    "Use data.rename(columns=('old name' : 'new name',...))"
   ]
  },
  {
   "cell_type": "code",
   "execution_count": 58,
   "metadata": {},
   "outputs": [
    {
     "data": {
      "text/html": [
       "<div>\n",
       "<style scoped>\n",
       "    .dataframe tbody tr th:only-of-type {\n",
       "        vertical-align: middle;\n",
       "    }\n",
       "\n",
       "    .dataframe tbody tr th {\n",
       "        vertical-align: top;\n",
       "    }\n",
       "\n",
       "    .dataframe thead th {\n",
       "        text-align: right;\n",
       "    }\n",
       "</style>\n",
       "<table border=\"1\" class=\"dataframe\">\n",
       "  <thead>\n",
       "    <tr style=\"text-align: right;\">\n",
       "      <th></th>\n",
       "      <th>id</th>\n",
       "      <th>inc</th>\n",
       "      <th>con</th>\n",
       "    </tr>\n",
       "  </thead>\n",
       "  <tbody>\n",
       "    <tr>\n",
       "      <th>8</th>\n",
       "      <td>8</td>\n",
       "      <td>0.582074</td>\n",
       "      <td>0.762938</td>\n",
       "    </tr>\n",
       "    <tr>\n",
       "      <th>10</th>\n",
       "      <td>10</td>\n",
       "      <td>0.932044</td>\n",
       "      <td>0.965424</td>\n",
       "    </tr>\n",
       "    <tr>\n",
       "      <th>12</th>\n",
       "      <td>12</td>\n",
       "      <td>0.356952</td>\n",
       "      <td>0.356952</td>\n",
       "    </tr>\n",
       "    <tr>\n",
       "      <th>13</th>\n",
       "      <td>13</td>\n",
       "      <td>0.379825</td>\n",
       "      <td>0.379825</td>\n",
       "    </tr>\n",
       "    <tr>\n",
       "      <th>16</th>\n",
       "      <td>16</td>\n",
       "      <td>0.700896</td>\n",
       "      <td>0.837195</td>\n",
       "    </tr>\n",
       "  </tbody>\n",
       "</table>\n",
       "</div>"
      ],
      "text/plain": [
       "    id       inc       con\n",
       "8    8  0.582074  0.762938\n",
       "10  10  0.932044  0.965424\n",
       "12  12  0.356952  0.356952\n",
       "13  13  0.379825  0.379825\n",
       "16  16  0.700896  0.837195"
      ]
     },
     "execution_count": 58,
     "metadata": {},
     "output_type": "execute_result"
    }
   ],
   "source": [
    "df = df.rename(columns={'income':'inc','consumption':'con'})\n",
    "df.head()"
   ]
  },
  {
   "cell_type": "code",
   "execution_count": 59,
   "metadata": {},
   "outputs": [
    {
     "data": {
      "text/html": [
       "<div>\n",
       "<style scoped>\n",
       "    .dataframe tbody tr th:only-of-type {\n",
       "        vertical-align: middle;\n",
       "    }\n",
       "\n",
       "    .dataframe tbody tr th {\n",
       "        vertical-align: top;\n",
       "    }\n",
       "\n",
       "    .dataframe thead th {\n",
       "        text-align: right;\n",
       "    }\n",
       "</style>\n",
       "<table border=\"1\" class=\"dataframe\">\n",
       "  <thead>\n",
       "    <tr style=\"text-align: right;\">\n",
       "      <th></th>\n",
       "      <th>id</th>\n",
       "      <th>inc</th>\n",
       "      <th>con</th>\n",
       "    </tr>\n",
       "  </thead>\n",
       "  <tbody>\n",
       "    <tr>\n",
       "      <th>0</th>\n",
       "      <td>0</td>\n",
       "      <td>0.599145</td>\n",
       "      <td>0.774044</td>\n",
       "    </tr>\n",
       "    <tr>\n",
       "      <th>1</th>\n",
       "      <td>1</td>\n",
       "      <td>0.469167</td>\n",
       "      <td>0.684957</td>\n",
       "    </tr>\n",
       "    <tr>\n",
       "      <th>2</th>\n",
       "      <td>2</td>\n",
       "      <td>1.435292</td>\n",
       "      <td>1.198037</td>\n",
       "    </tr>\n",
       "    <tr>\n",
       "      <th>3</th>\n",
       "      <td>3</td>\n",
       "      <td>2.504716</td>\n",
       "      <td>1.582629</td>\n",
       "    </tr>\n",
       "    <tr>\n",
       "      <th>4</th>\n",
       "      <td>4</td>\n",
       "      <td>0.156667</td>\n",
       "      <td>0.395811</td>\n",
       "    </tr>\n",
       "  </tbody>\n",
       "</table>\n",
       "</div>"
      ],
      "text/plain": [
       "   id       inc       con\n",
       "0   0  0.599145  0.774044\n",
       "1   1  0.469167  0.684957\n",
       "2   2  1.435292  1.198037\n",
       "3   3  2.504716  1.582629\n",
       "4   4  0.156667  0.395811"
      ]
     },
     "execution_count": 59,
     "metadata": {},
     "output_type": "execute_result"
    }
   ],
   "source": [
    "N = 100\n",
    "mydata = {}\n",
    "mydata['id'] = range(N)\n",
    "mydata['income'] = np.exp(np.random.normal(size=N))\n",
    "mydata['consumption'] = np.sqrt(mydata['income'])\n",
    "\n",
    "df_true = pd.DataFrame(mydata)\n",
    "\n",
    "df_true = df_true.rename(columns={'income':'inc','consumption':'con'})\n",
    "df_true.head()"
   ]
  },
  {
   "cell_type": "markdown",
   "metadata": {},
   "source": [
    "### 1.7. <a id='toc1_7_'></a>[Income distribution](#toc0_)"
   ]
  },
  {
   "cell_type": "markdown",
   "metadata": {},
   "source": [
    "Compute the share of income for each decile of the income distribution using the code below as a starting point.\n",
    "\n",
    "I can not find this in the lectures. So try for yourselves, but otherwise look at the solution. But make sure, you discuss, what the code does!"
   ]
  },
  {
   "cell_type": "code",
   "execution_count": 60,
   "metadata": {},
   "outputs": [],
   "source": [
    "# deciles = df.quantile(?)\n",
    "# df[?] = pd.cut(?,labels=?)\n",
    "# income_shares df.groupby(?)[?].? / ?\n",
    "# display(income_shares)"
   ]
  },
  {
   "cell_type": "markdown",
   "metadata": {},
   "source": [
    "## 2. <a id='toc2_'></a>[National account identity](#toc0_)"
   ]
  },
  {
   "cell_type": "markdown",
   "metadata": {},
   "source": [
    "This part will work with the API direct from Statistics Denmark. The data tables we will use are NAH1 and BEFOLK. \n",
    "\n",
    "Before going through these, try to look these up on the Statistics Denmark site. See what variables you can get etc. Do they match with the variables, columns and units  below?"
   ]
  },
  {
   "cell_type": "markdown",
   "metadata": {},
   "source": [
    "### 2.1. <a id='toc2_1_'></a>[Download](#toc0_)"
   ]
  },
  {
   "cell_type": "markdown",
   "metadata": {},
   "source": [
    "Consider the following dictionary definitions:\n",
    "\n",
    "The A2_1 covers the 2.1 part in this notebook"
   ]
  },
  {
   "cell_type": "code",
   "execution_count": null,
   "metadata": {},
   "outputs": [],
   "source": [
    "columns_dict = {} # Initialize an empty dictionary for the columns\n",
    "columns_dict['TRANSAKT'] = 'variable'\n",
    "columns_dict['PRISENHED'] = 'unit'\n",
    "columns_dict['TID'] = 'year'\n",
    "columns_dict['INDHOLD'] = 'value'\n",
    "\n",
    "var_dict = {} # var is for variable\n",
    "var_dict['P.1 Output'] = 'Y'\n",
    "var_dict['P.3 Final consumption expenditure'] = 'C'\n",
    "var_dict['P.3 Government consumption expenditure'] = 'G'\n",
    "var_dict['P.5 Gross capital formation'] = 'I'\n",
    "var_dict['P.6 Export of goods and services'] = 'X'\n",
    "var_dict['P.7 Import of goods and services'] = 'M'\n",
    "\n",
    "unit_dict = {} # Initialize an empty dictionary for the units\n",
    "unit_dict['2020-prices, chained values'] = 'real'\n",
    "unit_dict['Current prices'] = 'nominal'"
   ]
  },
  {
   "cell_type": "markdown",
   "metadata": {},
   "source": [
    "**Step 1:** Download all of table `nah1`."
   ]
  },
  {
   "cell_type": "code",
   "execution_count": null,
   "metadata": {},
   "outputs": [
    {
     "data": {
      "text/html": [
       "<div>\n",
       "<style scoped>\n",
       "    .dataframe tbody tr th:only-of-type {\n",
       "        vertical-align: middle;\n",
       "    }\n",
       "\n",
       "    .dataframe tbody tr th {\n",
       "        vertical-align: top;\n",
       "    }\n",
       "\n",
       "    .dataframe thead th {\n",
       "        text-align: right;\n",
       "    }\n",
       "</style>\n",
       "<table border=\"1\" class=\"dataframe\">\n",
       "  <thead>\n",
       "    <tr style=\"text-align: right;\">\n",
       "      <th></th>\n",
       "      <th>variable</th>\n",
       "      <th>unit</th>\n",
       "      <th>year</th>\n",
       "      <th>value</th>\n",
       "    </tr>\n",
       "  </thead>\n",
       "  <tbody>\n",
       "    <tr>\n",
       "      <th>1970</th>\n",
       "      <td>M</td>\n",
       "      <td>real</td>\n",
       "      <td>1966</td>\n",
       "      <td>116721.0</td>\n",
       "    </tr>\n",
       "    <tr>\n",
       "      <th>1964</th>\n",
       "      <td>X</td>\n",
       "      <td>real</td>\n",
       "      <td>1966</td>\n",
       "      <td>129917.0</td>\n",
       "    </tr>\n",
       "    <tr>\n",
       "      <th>1955</th>\n",
       "      <td>I</td>\n",
       "      <td>nominal</td>\n",
       "      <td>1966</td>\n",
       "      <td>21134.0</td>\n",
       "    </tr>\n",
       "    <tr>\n",
       "      <th>1954</th>\n",
       "      <td>I</td>\n",
       "      <td>real</td>\n",
       "      <td>1966</td>\n",
       "      <td>137948.0</td>\n",
       "    </tr>\n",
       "    <tr>\n",
       "      <th>1945</th>\n",
       "      <td>G</td>\n",
       "      <td>nominal</td>\n",
       "      <td>1966</td>\n",
       "      <td>14768.0</td>\n",
       "    </tr>\n",
       "    <tr>\n",
       "      <th>...</th>\n",
       "      <td>...</td>\n",
       "      <td>...</td>\n",
       "      <td>...</td>\n",
       "      <td>...</td>\n",
       "    </tr>\n",
       "    <tr>\n",
       "      <th>2662</th>\n",
       "      <td>C</td>\n",
       "      <td>real</td>\n",
       "      <td>2024</td>\n",
       "      <td>1704543.0</td>\n",
       "    </tr>\n",
       "    <tr>\n",
       "      <th>2647</th>\n",
       "      <td>Y</td>\n",
       "      <td>nominal</td>\n",
       "      <td>2024</td>\n",
       "      <td>5326389.0</td>\n",
       "    </tr>\n",
       "    <tr>\n",
       "      <th>2646</th>\n",
       "      <td>Y</td>\n",
       "      <td>real</td>\n",
       "      <td>2024</td>\n",
       "      <td>4552586.0</td>\n",
       "    </tr>\n",
       "    <tr>\n",
       "      <th>2664</th>\n",
       "      <td>G</td>\n",
       "      <td>real</td>\n",
       "      <td>2024</td>\n",
       "      <td>597071.0</td>\n",
       "    </tr>\n",
       "    <tr>\n",
       "      <th>2690</th>\n",
       "      <td>M</td>\n",
       "      <td>real</td>\n",
       "      <td>2024</td>\n",
       "      <td>1424070.0</td>\n",
       "    </tr>\n",
       "  </tbody>\n",
       "</table>\n",
       "<p>708 rows × 4 columns</p>\n",
       "</div>"
      ],
      "text/plain": [
       "     variable     unit  year      value\n",
       "1970        M     real  1966   116721.0\n",
       "1964        X     real  1966   129917.0\n",
       "1955        I  nominal  1966    21134.0\n",
       "1954        I     real  1966   137948.0\n",
       "1945        G  nominal  1966    14768.0\n",
       "...       ...      ...   ...        ...\n",
       "2662        C     real  2024  1704543.0\n",
       "2647        Y  nominal  2024  5326389.0\n",
       "2646        Y     real  2024  4552586.0\n",
       "2664        G     real  2024   597071.0\n",
       "2690        M     real  2024  1424070.0\n",
       "\n",
       "[708 rows x 4 columns]"
      ]
     },
     "execution_count": 80,
     "metadata": {},
     "output_type": "execute_result"
    }
   ],
   "source": [
    "# hint, nah1_api = DstApi('?') \n",
    "# hint, params = nah1_api._define_base_params(language='en')\n",
    "# display(params)\n",
    "# nah1 = nah1_api.get_data(?)"
   ]
  },
  {
   "cell_type": "markdown",
   "metadata": {},
   "source": [
    "**Step 2:** Rename the columns using `columns_dict` and replace data using `var_dict` and `unit_dict`."
   ]
  },
  {
   "cell_type": "code",
   "execution_count": null,
   "metadata": {},
   "outputs": [
    {
     "data": {
      "text/html": [
       "<div>\n",
       "<style scoped>\n",
       "    .dataframe tbody tr th:only-of-type {\n",
       "        vertical-align: middle;\n",
       "    }\n",
       "\n",
       "    .dataframe tbody tr th {\n",
       "        vertical-align: top;\n",
       "    }\n",
       "\n",
       "    .dataframe thead th {\n",
       "        text-align: right;\n",
       "    }\n",
       "</style>\n",
       "<table border=\"1\" class=\"dataframe\">\n",
       "  <thead>\n",
       "    <tr style=\"text-align: right;\">\n",
       "      <th></th>\n",
       "      <th>variable</th>\n",
       "      <th>unit</th>\n",
       "      <th>year</th>\n",
       "      <th>value</th>\n",
       "      <th>population</th>\n",
       "    </tr>\n",
       "  </thead>\n",
       "  <tbody>\n",
       "    <tr>\n",
       "      <th>698</th>\n",
       "      <td>I</td>\n",
       "      <td>nominal</td>\n",
       "      <td>2024</td>\n",
       "      <td>679226.0</td>\n",
       "      <td>5961249.0</td>\n",
       "    </tr>\n",
       "    <tr>\n",
       "      <th>699</th>\n",
       "      <td>I</td>\n",
       "      <td>real</td>\n",
       "      <td>2024</td>\n",
       "      <td>584627.0</td>\n",
       "      <td>5961249.0</td>\n",
       "    </tr>\n",
       "    <tr>\n",
       "      <th>700</th>\n",
       "      <td>G</td>\n",
       "      <td>nominal</td>\n",
       "      <td>2024</td>\n",
       "      <td>672154.0</td>\n",
       "      <td>5961249.0</td>\n",
       "    </tr>\n",
       "    <tr>\n",
       "      <th>701</th>\n",
       "      <td>C</td>\n",
       "      <td>nominal</td>\n",
       "      <td>2024</td>\n",
       "      <td>1947969.0</td>\n",
       "      <td>5961249.0</td>\n",
       "    </tr>\n",
       "    <tr>\n",
       "      <th>702</th>\n",
       "      <td>M</td>\n",
       "      <td>nominal</td>\n",
       "      <td>2024</td>\n",
       "      <td>1778459.0</td>\n",
       "      <td>5961249.0</td>\n",
       "    </tr>\n",
       "    <tr>\n",
       "      <th>703</th>\n",
       "      <td>C</td>\n",
       "      <td>real</td>\n",
       "      <td>2024</td>\n",
       "      <td>1704543.0</td>\n",
       "      <td>5961249.0</td>\n",
       "    </tr>\n",
       "    <tr>\n",
       "      <th>704</th>\n",
       "      <td>Y</td>\n",
       "      <td>nominal</td>\n",
       "      <td>2024</td>\n",
       "      <td>5326389.0</td>\n",
       "      <td>5961249.0</td>\n",
       "    </tr>\n",
       "    <tr>\n",
       "      <th>705</th>\n",
       "      <td>Y</td>\n",
       "      <td>real</td>\n",
       "      <td>2024</td>\n",
       "      <td>4552586.0</td>\n",
       "      <td>5961249.0</td>\n",
       "    </tr>\n",
       "    <tr>\n",
       "      <th>706</th>\n",
       "      <td>G</td>\n",
       "      <td>real</td>\n",
       "      <td>2024</td>\n",
       "      <td>597071.0</td>\n",
       "      <td>5961249.0</td>\n",
       "    </tr>\n",
       "    <tr>\n",
       "      <th>707</th>\n",
       "      <td>M</td>\n",
       "      <td>real</td>\n",
       "      <td>2024</td>\n",
       "      <td>1424070.0</td>\n",
       "      <td>5961249.0</td>\n",
       "    </tr>\n",
       "  </tbody>\n",
       "</table>\n",
       "</div>"
      ],
      "text/plain": [
       "    variable     unit  year      value  population\n",
       "698        I  nominal  2024   679226.0   5961249.0\n",
       "699        I     real  2024   584627.0   5961249.0\n",
       "700        G  nominal  2024   672154.0   5961249.0\n",
       "701        C  nominal  2024  1947969.0   5961249.0\n",
       "702        M  nominal  2024  1778459.0   5961249.0\n",
       "703        C     real  2024  1704543.0   5961249.0\n",
       "704        Y  nominal  2024  5326389.0   5961249.0\n",
       "705        Y     real  2024  4552586.0   5961249.0\n",
       "706        G     real  2024   597071.0   5961249.0\n",
       "707        M     real  2024  1424070.0   5961249.0"
      ]
     },
     "execution_count": 81,
     "metadata": {},
     "output_type": "execute_result"
    }
   ],
   "source": [
    "# hint, nah1_true = nah1_true.rename(?)\n",
    "\n",
    "# for key,value in var_dict.items():\n",
    "#   nah1.variable.replace(?)\n",
    "\n",
    "#for key,value in unit_dict.items():\n",
    "#   nah1.unit.replace(?)"
   ]
  },
  {
   "cell_type": "markdown",
   "metadata": {},
   "source": [
    "**Step 3:** Only keep rows where the variable is in `[Y, C, G, I, X, M]`. Afterwards convert the `value` column to a float."
   ]
  },
  {
   "cell_type": "code",
   "execution_count": null,
   "metadata": {},
   "outputs": [
    {
     "data": {
      "text/html": [
       "<div>\n",
       "<style scoped>\n",
       "    .dataframe tbody tr th:only-of-type {\n",
       "        vertical-align: middle;\n",
       "    }\n",
       "\n",
       "    .dataframe tbody tr th {\n",
       "        vertical-align: top;\n",
       "    }\n",
       "\n",
       "    .dataframe thead th {\n",
       "        text-align: right;\n",
       "    }\n",
       "</style>\n",
       "<table border=\"1\" class=\"dataframe\">\n",
       "  <thead>\n",
       "    <tr style=\"text-align: right;\">\n",
       "      <th></th>\n",
       "      <th>variable</th>\n",
       "      <th>unit</th>\n",
       "      <th>value</th>\n",
       "      <th>population</th>\n",
       "      <th>population_alt</th>\n",
       "    </tr>\n",
       "    <tr>\n",
       "      <th>year</th>\n",
       "      <th></th>\n",
       "      <th></th>\n",
       "      <th></th>\n",
       "      <th></th>\n",
       "      <th></th>\n",
       "    </tr>\n",
       "  </thead>\n",
       "  <tbody>\n",
       "    <tr>\n",
       "      <th>1990</th>\n",
       "      <td>M</td>\n",
       "      <td>real</td>\n",
       "      <td>325632.0</td>\n",
       "      <td>5135409.0</td>\n",
       "      <td>5135409.0</td>\n",
       "    </tr>\n",
       "    <tr>\n",
       "      <th>1987</th>\n",
       "      <td>C</td>\n",
       "      <td>nominal</td>\n",
       "      <td>566960.0</td>\n",
       "      <td>5124794.0</td>\n",
       "      <td>5124794.0</td>\n",
       "    </tr>\n",
       "    <tr>\n",
       "      <th>2015</th>\n",
       "      <td>G</td>\n",
       "      <td>real</td>\n",
       "      <td>573044.0</td>\n",
       "      <td>5659715.0</td>\n",
       "      <td>5659715.0</td>\n",
       "    </tr>\n",
       "    <tr>\n",
       "      <th>2011</th>\n",
       "      <td>G</td>\n",
       "      <td>nominal</td>\n",
       "      <td>491424.0</td>\n",
       "      <td>5560628.0</td>\n",
       "      <td>5560628.0</td>\n",
       "    </tr>\n",
       "    <tr>\n",
       "      <th>2008</th>\n",
       "      <td>G</td>\n",
       "      <td>real</td>\n",
       "      <td>524911.0</td>\n",
       "      <td>5475791.0</td>\n",
       "      <td>5475791.0</td>\n",
       "    </tr>\n",
       "    <tr>\n",
       "      <th>2001</th>\n",
       "      <td>X</td>\n",
       "      <td>real</td>\n",
       "      <td>780497.0</td>\n",
       "      <td>5349212.0</td>\n",
       "      <td>5349212.0</td>\n",
       "    </tr>\n",
       "    <tr>\n",
       "      <th>1967</th>\n",
       "      <td>M</td>\n",
       "      <td>real</td>\n",
       "      <td>124897.0</td>\n",
       "      <td>NaN</td>\n",
       "      <td>NaN</td>\n",
       "    </tr>\n",
       "    <tr>\n",
       "      <th>1995</th>\n",
       "      <td>X</td>\n",
       "      <td>nominal</td>\n",
       "      <td>380037.0</td>\n",
       "      <td>5215718.0</td>\n",
       "      <td>5215718.0</td>\n",
       "    </tr>\n",
       "    <tr>\n",
       "      <th>2004</th>\n",
       "      <td>X</td>\n",
       "      <td>nominal</td>\n",
       "      <td>662123.0</td>\n",
       "      <td>5397640.0</td>\n",
       "      <td>5397640.0</td>\n",
       "    </tr>\n",
       "    <tr>\n",
       "      <th>2017</th>\n",
       "      <td>C</td>\n",
       "      <td>nominal</td>\n",
       "      <td>1567022.0</td>\n",
       "      <td>5748769.0</td>\n",
       "      <td>5748769.0</td>\n",
       "    </tr>\n",
       "  </tbody>\n",
       "</table>\n",
       "</div>"
      ],
      "text/plain": [
       "     variable     unit      value  population  population_alt\n",
       "year                                                         \n",
       "1990        M     real   325632.0   5135409.0       5135409.0\n",
       "1987        C  nominal   566960.0   5124794.0       5124794.0\n",
       "2015        G     real   573044.0   5659715.0       5659715.0\n",
       "2011        G  nominal   491424.0   5560628.0       5560628.0\n",
       "2008        G     real   524911.0   5475791.0       5475791.0\n",
       "2001        X     real   780497.0   5349212.0       5349212.0\n",
       "1967        M     real   124897.0         NaN             NaN\n",
       "1995        X  nominal   380037.0   5215718.0       5215718.0\n",
       "2004        X  nominal   662123.0   5397640.0       5397640.0\n",
       "2017        C  nominal  1567022.0   5748769.0       5748769.0"
      ]
     },
     "execution_count": 82,
     "metadata": {},
     "output_type": "execute_result"
    }
   ],
   "source": [
    "# write you code here\n",
    "# nah1.value = nah1.value.astype('float')"
   ]
  },
  {
   "cell_type": "markdown",
   "metadata": {},
   "source": [
    "**Step 4:** Discuss what the following summary statistics show."
   ]
  },
  {
   "cell_type": "code",
   "execution_count": null,
   "metadata": {},
   "outputs": [
    {
     "data": {
      "text/plain": [
       "<matplotlib.legend.Legend at 0x14c0683b0>"
      ]
     },
     "execution_count": 83,
     "metadata": {},
     "output_type": "execute_result"
    },
    {
     "data": {
      "image/png": "[encoded data removed]",
      "text/plain": [
       "<Figure size 600x400 with 1 Axes>"
      ]
     },
     "metadata": {},
     "output_type": "display_data"
    }
   ],
   "source": [
    "# nah1.groupby(['variable','unit']).describe()"
   ]
  },
  {
   "cell_type": "markdown",
   "metadata": {},
   "source": [
    "**Step 5:** Sort the dataset by year"
   ]
  },
  {
   "cell_type": "code",
   "execution_count": null,
   "metadata": {},
   "outputs": [],
   "source": [
    "# nah1 = nah1.sort_values(by='?')\n",
    "# nah1.head()"
   ]
  },
  {
   "cell_type": "markdown",
   "metadata": {},
   "source": [
    "### 2.2. <a id='toc2_2_'></a>[Merge](#toc0_)"
   ]
  },
  {
   "cell_type": "markdown",
   "metadata": {},
   "source": [
    "Load population data from Denmark Statistics:"
   ]
  },
  {
   "cell_type": "code",
   "execution_count": 67,
   "metadata": {},
   "outputs": [
    {
     "data": {
      "text/plain": [
       "{'table': 'befolk1',\n",
       " 'format': 'BULK',\n",
       " 'lang': 'en',\n",
       " 'variables': [{'code': 'KØN', 'values': ['*']},\n",
       "  {'code': 'ALDER', 'values': ['*']},\n",
       "  {'code': 'CIVILSTAND', 'values': ['*']},\n",
       "  {'code': 'Tid', 'values': ['*']}]}"
      ]
     },
     "metadata": {},
     "output_type": "display_data"
    }
   ],
   "source": [
    "BEFOLK1_api = DstApi('BEFOLK1')\n",
    "params = BEFOLK1_api._define_base_params(language='en')\n",
    "display(params)"
   ]
  },
  {
   "cell_type": "code",
   "execution_count": 68,
   "metadata": {},
   "outputs": [
    {
     "name": "stdout",
     "output_type": "stream",
     "text": [
      "KØN\n"
     ]
    },
    {
     "data": {
      "text/html": [
       "<div>\n",
       "<style scoped>\n",
       "    .dataframe tbody tr th:only-of-type {\n",
       "        vertical-align: middle;\n",
       "    }\n",
       "\n",
       "    .dataframe tbody tr th {\n",
       "        vertical-align: top;\n",
       "    }\n",
       "\n",
       "    .dataframe thead th {\n",
       "        text-align: right;\n",
       "    }\n",
       "</style>\n",
       "<table border=\"1\" class=\"dataframe\">\n",
       "  <thead>\n",
       "    <tr style=\"text-align: right;\">\n",
       "      <th></th>\n",
       "      <th>id</th>\n",
       "      <th>text</th>\n",
       "    </tr>\n",
       "  </thead>\n",
       "  <tbody>\n",
       "    <tr>\n",
       "      <th>0</th>\n",
       "      <td>TOT</td>\n",
       "      <td>I alt</td>\n",
       "    </tr>\n",
       "    <tr>\n",
       "      <th>1</th>\n",
       "      <td>1</td>\n",
       "      <td>Mænd</td>\n",
       "    </tr>\n",
       "    <tr>\n",
       "      <th>2</th>\n",
       "      <td>2</td>\n",
       "      <td>Kvinder</td>\n",
       "    </tr>\n",
       "  </tbody>\n",
       "</table>\n",
       "</div>"
      ],
      "text/plain": [
       "    id     text\n",
       "0  TOT    I alt\n",
       "1    1     Mænd\n",
       "2    2  Kvinder"
      ]
     },
     "metadata": {},
     "output_type": "display_data"
    },
    {
     "name": "stdout",
     "output_type": "stream",
     "text": [
      "\n",
      "CIVILSTAND\n"
     ]
    },
    {
     "data": {
      "text/html": [
       "<div>\n",
       "<style scoped>\n",
       "    .dataframe tbody tr th:only-of-type {\n",
       "        vertical-align: middle;\n",
       "    }\n",
       "\n",
       "    .dataframe tbody tr th {\n",
       "        vertical-align: top;\n",
       "    }\n",
       "\n",
       "    .dataframe thead th {\n",
       "        text-align: right;\n",
       "    }\n",
       "</style>\n",
       "<table border=\"1\" class=\"dataframe\">\n",
       "  <thead>\n",
       "    <tr style=\"text-align: right;\">\n",
       "      <th></th>\n",
       "      <th>id</th>\n",
       "      <th>text</th>\n",
       "    </tr>\n",
       "  </thead>\n",
       "  <tbody>\n",
       "    <tr>\n",
       "      <th>0</th>\n",
       "      <td>TOT</td>\n",
       "      <td>I alt</td>\n",
       "    </tr>\n",
       "    <tr>\n",
       "      <th>1</th>\n",
       "      <td>U</td>\n",
       "      <td>Ugift</td>\n",
       "    </tr>\n",
       "    <tr>\n",
       "      <th>2</th>\n",
       "      <td>G</td>\n",
       "      <td>Gift/separeret</td>\n",
       "    </tr>\n",
       "    <tr>\n",
       "      <th>3</th>\n",
       "      <td>E</td>\n",
       "      <td>Enke/enkemand</td>\n",
       "    </tr>\n",
       "    <tr>\n",
       "      <th>4</th>\n",
       "      <td>F</td>\n",
       "      <td>Fraskilt</td>\n",
       "    </tr>\n",
       "  </tbody>\n",
       "</table>\n",
       "</div>"
      ],
      "text/plain": [
       "    id            text\n",
       "0  TOT           I alt\n",
       "1    U           Ugift\n",
       "2    G  Gift/separeret\n",
       "3    E   Enke/enkemand\n",
       "4    F        Fraskilt"
      ]
     },
     "metadata": {},
     "output_type": "display_data"
    },
    {
     "name": "stdout",
     "output_type": "stream",
     "text": [
      "\n"
     ]
    }
   ],
   "source": [
    "for code in ['KØN','CIVILSTAND']:\n",
    "    print(code)\n",
    "    display(BEFOLK1_api.variable_levels(code,language='en'))\n",
    "    print('')"
   ]
  },
  {
   "cell_type": "code",
   "execution_count": 69,
   "metadata": {},
   "outputs": [
    {
     "data": {
      "text/html": [
       "<div>\n",
       "<style scoped>\n",
       "    .dataframe tbody tr th:only-of-type {\n",
       "        vertical-align: middle;\n",
       "    }\n",
       "\n",
       "    .dataframe tbody tr th {\n",
       "        vertical-align: top;\n",
       "    }\n",
       "\n",
       "    .dataframe thead th {\n",
       "        text-align: right;\n",
       "    }\n",
       "</style>\n",
       "<table border=\"1\" class=\"dataframe\">\n",
       "  <thead>\n",
       "    <tr style=\"text-align: right;\">\n",
       "      <th></th>\n",
       "      <th>KØN</th>\n",
       "      <th>ALDER</th>\n",
       "      <th>CIVILSTAND</th>\n",
       "      <th>TID</th>\n",
       "      <th>INDHOLD</th>\n",
       "    </tr>\n",
       "  </thead>\n",
       "  <tbody>\n",
       "    <tr>\n",
       "      <th>0</th>\n",
       "      <td>Total</td>\n",
       "      <td>Age, total</td>\n",
       "      <td>Total</td>\n",
       "      <td>1972</td>\n",
       "      <td>4975653</td>\n",
       "    </tr>\n",
       "    <tr>\n",
       "      <th>1</th>\n",
       "      <td>Total</td>\n",
       "      <td>0 years</td>\n",
       "      <td>Total</td>\n",
       "      <td>1972</td>\n",
       "      <td>74461</td>\n",
       "    </tr>\n",
       "    <tr>\n",
       "      <th>2</th>\n",
       "      <td>Total</td>\n",
       "      <td>1 year</td>\n",
       "      <td>Total</td>\n",
       "      <td>1972</td>\n",
       "      <td>70323</td>\n",
       "    </tr>\n",
       "    <tr>\n",
       "      <th>3</th>\n",
       "      <td>Total</td>\n",
       "      <td>10 years</td>\n",
       "      <td>Total</td>\n",
       "      <td>1972</td>\n",
       "      <td>74854</td>\n",
       "    </tr>\n",
       "    <tr>\n",
       "      <th>4</th>\n",
       "      <td>Total</td>\n",
       "      <td>11 years</td>\n",
       "      <td>Total</td>\n",
       "      <td>1972</td>\n",
       "      <td>74624</td>\n",
       "    </tr>\n",
       "  </tbody>\n",
       "</table>\n",
       "</div>"
      ],
      "text/plain": [
       "     KØN       ALDER CIVILSTAND   TID  INDHOLD\n",
       "0  Total  Age, total      Total  1972  4975653\n",
       "1  Total     0 years      Total  1972    74461\n",
       "2  Total      1 year      Total  1972    70323\n",
       "3  Total    10 years      Total  1972    74854\n",
       "4  Total    11 years      Total  1972    74624"
      ]
     },
     "metadata": {},
     "output_type": "display_data"
    }
   ],
   "source": [
    "params['variables'][0]['values'] = ['TOT'] \n",
    "params['variables'][2]['values'] = ['TOT'] \n",
    "BEFOLK1 = BEFOLK1_api.get_data(params=params)\n",
    "display(BEFOLK1.head())"
   ]
  },
  {
   "cell_type": "code",
   "execution_count": 70,
   "metadata": {},
   "outputs": [
    {
     "data": {
      "text/html": [
       "<div>\n",
       "<style scoped>\n",
       "    .dataframe tbody tr th:only-of-type {\n",
       "        vertical-align: middle;\n",
       "    }\n",
       "\n",
       "    .dataframe tbody tr th {\n",
       "        vertical-align: top;\n",
       "    }\n",
       "\n",
       "    .dataframe thead th {\n",
       "        text-align: right;\n",
       "    }\n",
       "</style>\n",
       "<table border=\"1\" class=\"dataframe\">\n",
       "  <thead>\n",
       "    <tr style=\"text-align: right;\">\n",
       "      <th></th>\n",
       "      <th>year</th>\n",
       "      <th>population</th>\n",
       "    </tr>\n",
       "  </thead>\n",
       "  <tbody>\n",
       "    <tr>\n",
       "      <th>0</th>\n",
       "      <td>1972</td>\n",
       "      <td>4975653</td>\n",
       "    </tr>\n",
       "    <tr>\n",
       "      <th>101</th>\n",
       "      <td>2008</td>\n",
       "      <td>5475791</td>\n",
       "    </tr>\n",
       "    <tr>\n",
       "      <th>202</th>\n",
       "      <td>1973</td>\n",
       "      <td>5007538</td>\n",
       "    </tr>\n",
       "    <tr>\n",
       "      <th>303</th>\n",
       "      <td>1975</td>\n",
       "      <td>5054410</td>\n",
       "    </tr>\n",
       "    <tr>\n",
       "      <th>404</th>\n",
       "      <td>1993</td>\n",
       "      <td>5180614</td>\n",
       "    </tr>\n",
       "  </tbody>\n",
       "</table>\n",
       "</div>"
      ],
      "text/plain": [
       "     year  population\n",
       "0    1972     4975653\n",
       "101  2008     5475791\n",
       "202  1973     5007538\n",
       "303  1975     5054410\n",
       "404  1993     5180614"
      ]
     },
     "execution_count": 70,
     "metadata": {},
     "output_type": "execute_result"
    }
   ],
   "source": [
    "BEFOLK1 = BEFOLK1.rename(columns={'TID':'year','INDHOLD':'population'})\n",
    "BEFOLK1 = BEFOLK1.drop(columns=['KØN','CIVILSTAND'])\n",
    "pop = BEFOLK1[BEFOLK1.ALDER == 'Age, total'].drop(columns=['ALDER'])\n",
    "pop.head()"
   ]
  },
  {
   "cell_type": "markdown",
   "metadata": {},
   "source": [
    "**Question a:** Merge the population and the national account data, so there is a new column called `population`. Use the **merge function**."
   ]
  },
  {
   "cell_type": "code",
   "execution_count": 71,
   "metadata": {},
   "outputs": [],
   "source": [
    "# hint, merged = pd.merge(?,?,how='?',on=[?])\n",
    "# merged_true.tail(10)"
   ]
  },
  {
   "cell_type": "markdown",
   "metadata": {},
   "source": [
    "**Question b:** Merge the population on again, so there is a new column called `population_alt`. Use the **join method**."
   ]
  },
  {
   "cell_type": "code",
   "execution_count": 72,
   "metadata": {},
   "outputs": [],
   "source": [
    "# pop_with_index = pop.set_index(?)\n",
    "# pop_with_index = pop_with_index.rename(columns={'population':'population_alt'})\n",
    "# merged_with_index = merged.set_index(?)\n",
    "# merged_alt = merged_with_index.join(?)\n",
    "# merged_alt.tail(10)"
   ]
  },
  {
   "cell_type": "markdown",
   "metadata": {},
   "source": [
    "**Question c:** Plot GDP per capita and GDP per working-age (18-65) using the code below as a starting point."
   ]
  },
  {
   "cell_type": "code",
   "execution_count": 73,
   "metadata": {},
   "outputs": [],
   "source": [
    "# ages = ?\n",
    "\n",
    "# working_pop = BEFOLK1[BEFOLK1.ALDER.isin(?)].groupby('year').?\n",
    "# working_pop = working_pop.drop(columns=['ALDER'])\n",
    "# working_pop = working_pop.rename(columns={'population':'working_population'})\n",
    "\n",
    "# merged = pd.merge(nah1, working_pop, how='left', on=['year'])\n",
    "# merged = pd.merge(merged, pop, how='left', on=['year'])"
   ]
  },
  {
   "cell_type": "markdown",
   "metadata": {},
   "source": [
    "### 2.3. <a id='toc2_3_'></a>[Split-apply-combine-plot](#toc0_)"
   ]
  },
  {
   "cell_type": "markdown",
   "metadata": {},
   "source": [
    "Ensure the following code for a **split-apply-combine-plot** can run."
   ]
  },
  {
   "cell_type": "code",
   "execution_count": 74,
   "metadata": {},
   "outputs": [],
   "source": [
    "# # a. split\n",
    "# nah1_true_grouped = nah1_true.groupby(['variable','unit'])\n",
    "# nah1_true_grouped_first = nah1_true_grouped.value.first()\n",
    "# nah1_true_grouped_first.name = 'first'\n",
    "\n",
    "# # b. apply\n",
    "# nah1_true = nah1_true.set_index(['variable','unit','year'])\n",
    "# nah1_true = nah1_true.join(nah1_true_grouped_first,how='left',on=['variable','unit'])\n",
    "# nah1_true = nah1_true.reset_index()\n",
    "\n",
    "# # c. combine\n",
    "# nah1_true['indexed'] = nah1_true['value']/nah1_true['first']\n",
    "\n",
    "# # d. plot\n",
    "# def plot(df,variable='indexed'):\n",
    "#     df_indexed = df.set_index('year')\n",
    "#     I = df_indexed.unit == 'real'\n",
    "#     df_indexed[I].groupby(['variable'])[variable].plot(legend=True);\n",
    "    \n",
    "# plot(nah1_true)"
   ]
  },
  {
   "cell_type": "markdown",
   "metadata": {},
   "source": [
    "**Question:** Implement the same split-apply-combine as above using `transform`."
   ]
  },
  {
   "cell_type": "code",
   "execution_count": 75,
   "metadata": {},
   "outputs": [],
   "source": [
    "def first(x): # select the first element in a series\n",
    "    return x.iloc[0]\n",
    "\n",
    "# nah1_alt = nah1.copy()\n",
    "# grouped = nah1_alt.groupby(?)\n",
    "#nah1_alt[?] = ?.transform(lambda x: ?)\n",
    "#nah1_alt.head()"
   ]
  },
  {
   "cell_type": "code",
   "execution_count": 76,
   "metadata": {},
   "outputs": [],
   "source": [
    "# plot(nah1_alt,variable='index_transform')"
   ]
  }
 ],
 "metadata": {
  "kernelspec": {
   "display_name": "base",
   "language": "python",
   "name": "python3"
  },
  "language_info": {
   "codemirror_mode": {
    "name": "ipython",
    "version": 3
   },
   "file_extension": ".py",
   "mimetype": "text/x-python",
   "name": "python",
   "nbconvert_exporter": "python",
   "pygments_lexer": "ipython3",
   "version": "3.12.7"
  },
  "toc-autonumbering": true
 },
 "nbformat": 4,
 "nbformat_minor": 4
}
