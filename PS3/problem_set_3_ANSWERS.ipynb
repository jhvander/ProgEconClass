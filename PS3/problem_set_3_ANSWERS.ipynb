{
 "cells": [
  {
   "cell_type": "markdown",
   "id": "b818d88f",
   "metadata": {},
   "source": [
    "# Problem set 3: Optimization and Root Finding: The Consumer Problem"
   ]
  },
  {
   "cell_type": "markdown",
   "id": "931dff7f",
   "metadata": {},
   "source": [
    "We will take a look at solving the canonical utility maximization problem for the consumer.  "
   ]
  },
  {
   "cell_type": "markdown",
   "id": "7b9dbbae",
   "metadata": {},
   "source": [
    "**Problem set structure:** \n",
    "* Each problem set consists of tasks and problems. _Tasks_ train you in using specific techniques, while _problems_ train you in solving actual economic problems. \n",
    "* Each problem set also contains solutions, which can be found in separate Python files.\n",
    "* The Python files `A[..].py` do not run out of the box. But you can copy the code into your notebook or user module. \n",
    "* *You should really try to solve the tasks and problems on your own before looking at the answers!* \n",
    "* You goal should, however, not be to write everything from scratch. \n",
    "* Finding similar code from the lectures and adjusting it is completely ok. I rarely begin  completely from scratch, I figure out when I last did something similar and copy in the code to begin with. A quick peak at the solution, and then trying to write the solution yourself is also a very beneficial approach."
   ]
  },
  {
   "cell_type": "markdown",
   "id": "9039be74",
   "metadata": {},
   "source": [
    "**Multiple solutions:** Within the field of numerical analysis there is often many more than one way of solving a specific problem. So the solution provided is just one example. If you get the same result, but use another approach, that might be just as good (or even better)."
   ]
  },
  {
   "cell_type": "markdown",
   "id": "7d98bd40",
   "metadata": {},
   "source": [
    "**Table of contents**<a id='toc0_'></a>    \n",
    "- [1. Functions](#toc1_)    \n",
    "- [2. Function continued](#toc2_)    \n",
    "- [3. Methods to solve and optimize](#toc3_)    \n",
    "  - [3.1 Brute‑Force Grid Search](#toc3_1_)    \n",
    "  - [3.2 Bisection](#toc3_2_)    \n",
    "  - [3.3 Newton's Method](#toc3_3_)    \n",
    "  - [3.4 scipy.optimize](#toc3_4_)    \n",
    "- [4. Other Optimizers - Comparing Methods (more difficult)](#toc4_)    \n",
    "- [5. Sensitivity: Price shock](#toc5_)    \n",
    "- [6. Sensitivity: Starting Values & Solver Choices](#toc6_)    \n",
    "\n",
    "<!-- vscode-jupyter-toc-config\n",
    "\tnumbering=false\n",
    "\tanchor=true\n",
    "\tflat=false\n",
    "\tminLevel=2\n",
    "\tmaxLevel=6\n",
    "\t/vscode-jupyter-toc-config -->\n",
    "<!-- THIS CELL WILL BE REPLACED ON TOC UPDATE. DO NOT WRITE YOUR TEXT IN THIS CELL -->"
   ]
  },
  {
   "cell_type": "markdown",
   "id": "e26f60ba",
   "metadata": {},
   "source": [
    "## <a id='toc1_'></a>[1. Functions](#toc0_)"
   ]
  },
  {
   "cell_type": "markdown",
   "id": "e19659f4",
   "metadata": {},
   "source": [
    "Implement a Python version of this function:"
   ]
  },
  {
   "cell_type": "markdown",
   "id": "e93b8267",
   "metadata": {},
   "source": [
    "$$ \n",
    "u(x_1,x_2) = (\\alpha x_1^{-\\beta} + (1-\\alpha) x_2^{-\\beta})^{-1/\\beta} \n",
    "$$"
   ]
  },
  {
   "cell_type": "code",
   "execution_count": 38,
   "id": "352dbad1",
   "metadata": {},
   "outputs": [
    {
     "name": "stdout",
     "output_type": "stream",
     "text": [
      "The autoreload extension is already loaded. To reload it, use:\n",
      "  %reload_ext autoreload\n"
     ]
    }
   ],
   "source": [
    "# set autoreload so that changes in A*.py files are reflected without restarting the notebook\n",
    "%load_ext autoreload\n",
    "%autoreload 2\n",
    "\n",
    "import numpy as np, time\n",
    "import matplotlib.pyplot as plt\n",
    "from matplotlib.ticker import PercentFormatter\n",
    "from scipy import optimize\n"
   ]
  },
  {
   "cell_type": "code",
   "execution_count": 39,
   "id": "f8382aa0",
   "metadata": {},
   "outputs": [],
   "source": [
    "# write your own code here\n",
    "def utility_ces(x1,x2,alpha,beta):\n",
    "    if x1 > 0 and x2 > 0:\n",
    "        return (alpha*x1**(-beta)+(1-alpha)*x2**(-beta))**(-1/beta)"
   ]
  },
  {
   "cell_type": "markdown",
   "id": "7620a9cd",
   "metadata": {},
   "source": [
    "## <a id='toc2_'></a>[2. Function continued](#toc0_)"
   ]
  },
  {
   "cell_type": "markdown",
   "id": "edd34181",
   "metadata": {},
   "source": [
    "Solve the above consumer problem with the CES utility function.\n",
    "\n",
    "$$\n",
    "u(x_1,x_2) = (\\alpha x_1^{-\\beta} + (1-\\alpha) x_2^{-\\beta})^{-1/\\beta}\n",
    "$$"
   ]
  },
  {
   "cell_type": "markdown",
   "id": "19d86588",
   "metadata": {},
   "source": [
    "Subject to the Budget Constraint:\n",
    "$$ p_1 x_1 + p_2 x_2 \\le I, \\quad x_1 \\ge 0,\\; x_2 \\ge 0. $$"
   ]
  },
  {
   "cell_type": "markdown",
   "id": "51611a7f",
   "metadata": {},
   "source": [
    "Tasks: Use your function from above that contains the CES utility function and embed it into another function *value_of_choice_ces* that returns the value of utility *u*."
   ]
  },
  {
   "cell_type": "markdown",
   "id": "0614087d",
   "metadata": {},
   "source": [
    "Solve for $x_2$ subject to the budget constraint. Maybe do this with pen and paper first! Print the function with different results, what happens? "
   ]
  },
  {
   "cell_type": "code",
   "execution_count": null,
   "id": "2ccbc359",
   "metadata": {},
   "outputs": [],
   "source": [
    "# Use these baseline parameters\n",
    "alpha = 0.5\n",
    "beta = 0.000001\n",
    "I = 10\n",
    "p1 = 1\n",
    "p2 = 2\n"
   ]
  },
  {
   "cell_type": "code",
   "execution_count": null,
   "id": "667ae293",
   "metadata": {},
   "outputs": [
    {
     "name": "stdout",
     "output_type": "stream",
     "text": [
      "For x1 = 0.1, utility = 0.7035610249656576\n",
      "For x1 = 0.5, utility = 1.541102524340305\n",
      "For x1 = 1, utility = 2.121319743801325\n",
      "For x1 = 2, utility = 2.828426954619688\n",
      "For x1 = 3, utility = 3.2403703395228733\n",
      "For x1 = 4, utility = 3.464101579033822\n",
      "For x1 = 5, utility = 3.535533693620822\n"
     ]
    }
   ],
   "source": [
    "# b. value-of-choice\n",
    "\n",
    "def value_of_choice_ces(x1,alpha,beta,I,p1,p2):\n",
    "    x2 = (I-p1*x1)/p2\n",
    "    u = utility_ces(x1,x2,alpha,beta)\n",
    "    return u\n",
    "\n",
    "# c. objective\n",
    "obj = lambda x1: -value_of_choice_ces(x1,alpha,beta,I,p1,p2)\n",
    "\n",
    "list_x1 = [0.1, 0.5,1,2,3,4,5]\n",
    "for x1 in list_x1:\n",
    "    print(f\"For x1 = {x1}, utility = {obj(x1)}\")\n"
   ]
  },
  {
   "cell_type": "markdown",
   "id": "f6daf1b4",
   "metadata": {},
   "source": [
    "Next, we will compare different methods to solve the consumer problem."
   ]
  },
  {
   "cell_type": "markdown",
   "id": "3fb6fa06",
   "metadata": {},
   "source": [
    "## <a id='toc3_'></a>[3. Methods to solve and optimize](#toc0_)\n",
    "\n",
    "Start with 3.1, then jump to 3.4 and continue on with the Exercise set. Once completed come back to 3.2 and 3.3"
   ]
  },
  {
   "cell_type": "markdown",
   "id": "6f56fff3",
   "metadata": {},
   "source": [
    "### <a id='toc3_1_'></a>[3.1 Brute‑Force Grid Search](#toc0_)\n",
    "Set up a grid of the budget set and solve the consumer problem on the grid.\n",
    "\n",
    "**Idea:** Search over a grid for  $c_1 \\in [0, I/p_1]$, and  $c_2 \\in [0, I/p_2]$ to find the values of $c_1$ and $c_2$ that maximize utility.\n"
   ]
  },
  {
   "cell_type": "markdown",
   "id": "11cbb055",
   "metadata": {},
   "source": [
    "Remember to have the grid_solve.py in the same folder as your current notebook"
   ]
  },
  {
   "cell_type": "code",
   "execution_count": 19,
   "id": "2208348f",
   "metadata": {},
   "outputs": [],
   "source": [
    "from types import SimpleNamespace\n",
    "from grid_solve import print_solution\n"
   ]
  },
  {
   "cell_type": "markdown",
   "id": "4a508740",
   "metadata": {},
   "source": [
    "**Task**: Modify the grid search function below to add the additional parameter for the CES utility function $\\beta$ and print the results. Note that you also need to use of the utility function. Make sure it runs below."
   ]
  },
  {
   "cell_type": "markdown",
   "id": "4e34ed6b",
   "metadata": {},
   "source": [
    "We now want to test for all values of of $x_1$ and $x_2$, that we can think of. This is called a brute force. We create a a grid/matrix with a large set of values and simply pick the set with the highest utility! \n",
    "\n",
    "Call the function, with the correct utility function"
   ]
  },
  {
   "cell_type": "code",
   "execution_count": 27,
   "id": "a1150b76",
   "metadata": {},
   "outputs": [],
   "source": [
    "def find_best_choice(u_func,alpha,beta,I,p1,p2,N1,N2,do_print=True):\n",
    "    \n",
    "    # a. allocate numpy arrays\n",
    "    shape_tuple = (N1,N2)\n",
    "    x1_values = np.empty(shape_tuple)\n",
    "    x2_values = np.empty(shape_tuple)\n",
    "    u_values = np.empty(shape_tuple)\n",
    "    \n",
    "    # b. start from guess of x1=x2=0\n",
    "    x1_best = 0\n",
    "    x2_best = 0\n",
    "    u_best = -np.inf                      # CHANGED: robust init (avoid None)\n",
    "\n",
    "    # c. loop through all possibilities\n",
    "    for i in range(N1):\n",
    "        for j in range(N2):\n",
    "            \n",
    "            # i. x1 and x2 (chained assignment)\n",
    "            x1_values[i,j] = x1 = (i/(N1-1))*I/p1\n",
    "            x2_values[i,j] = x2 = (j/(N2-1))*I/p2\n",
    "            \n",
    "            # ii. utility\n",
    "            if p1*x1 + p2*x2 <= I:  # feasible\n",
    "                u_values[i,j] = u_func(x1,x2,alpha=alpha, beta=beta)  # (keep your API)\n",
    "            else:                   # infeasible\n",
    "                u_values[i,j] = -np.inf           # CHANGED: no call that might return None\n",
    "            \n",
    "            # iii. check if best so far\n",
    "            if u_values[i,j] > u_best:\n",
    "                x1_best = x1_values[i,j]\n",
    "                x2_best = x2_values[i,j] \n",
    "                u_best = u_values[i,j]\n",
    "    \n",
    "    # d. print\n",
    "    if do_print:\n",
    "        print_solution(x1_best,x2_best,u_best,I,p1,p2)\n",
    "\n",
    "    return SimpleNamespace(\n",
    "        x1_best=x1_best, x2_best=x2_best, u_best=u_best,\n",
    "        x1_values=x1_values, x2_values=x2_values, u_values=u_values\n",
    "    )"
   ]
  },
  {
   "cell_type": "code",
   "execution_count": 28,
   "id": "b5718984",
   "metadata": {},
   "outputs": [
    {
     "name": "stdout",
     "output_type": "stream",
     "text": [
      "x1 = 4.9495\n",
      "x2 = 2.5253\n",
      "u  = 3.5354\n",
      "I-p1*x1-p2*x2 = -0.00000000\n",
      "x1*p1/I = 0.4949\n"
     ]
    }
   ],
   "source": [
    "# Run the function with the correct utility function\n",
    "N1 = 100\n",
    "N2 = 100\n",
    "\n",
    "sol = find_best_choice(utility_ces, alpha, beta, I, p1, p2, N1, N2, do_print=True)\n"
   ]
  },
  {
   "cell_type": "markdown",
   "id": "89bc02b5",
   "metadata": {},
   "source": [
    "Do you get similar results?\n",
    "\n",
    "x1 = 4.9495\n",
    "x2 = 2.5253\n",
    "u  = 3.5354\n",
    "I-p1*x1-p2*x2 = -0.00000000\n",
    "x1*p1/I = 0.4949"
   ]
  },
  {
   "cell_type": "markdown",
   "id": "9bb8241c",
   "metadata": {},
   "source": [
    "### <a id='toc3_2_'></a>[3.2 Bisection](#toc0_)\n",
    "\n",
    "Use the bisection function from the lecture. Make sure you understand what it does first. Then, define the first‑order condition of the consumer problem with the modified utility function, which we can enforce by a **single equation in $ x_1 $**:  \n",
    "\n",
    "More help can be found in Lecture 07->02_Rootfinding_non_linear or go thorugh the uploaded lecture again!\n"
   ]
  },
  {
   "cell_type": "markdown",
   "id": "0e2552aa",
   "metadata": {},
   "source": [
    "FOC (interior):\n",
    "$$\\frac{\\partial u/\\partial x_1}{\\partial u/\\partial x_2}\n",
    "=\\frac{\\alpha\\,x_1^{-(\\beta+1)}}{(1-\\alpha)\\,x_2^{-(\\beta+1)}}\n",
    "=\\frac{\\alpha}{1-\\alpha}\\left(\\frac{x_2}{x_1}\\right)^{\\beta+1}\n",
    "=\\frac{p_1}{p_2}.$$\n",
    "\n",
    "Single equation in $x_1$ (with $x_2(x_1)=\\tfrac{I-p_1x_1}{p_2}$):\n",
    "$$F(x_1)\\equiv \\frac{\\alpha}{1-\\alpha}\\left(\\frac{I-p_1x_1}{p_2x_1}\\right)^{\\beta+1}-\\frac{p_1}{p_2}=0.$$"
   ]
  },
  {
   "cell_type": "markdown",
   "id": "b177a120",
   "metadata": {},
   "source": [
    "We solve $ F(x_1) = 0 $ on $[0, I/p_1]$ using **bisection**.\n"
   ]
  },
  {
   "cell_type": "markdown",
   "id": "7f979a6f",
   "metadata": {},
   "source": [
    "\n",
    "**Algorithm:** `bisection()`\n",
    "\n",
    "1. Set $a_0 = a$ and $b_0 = b$ where $f(a)$ and $f(b)$ has oposite sign, $f(a_0)f(b_0)<0$\n",
    "2. Compute $f(m_0)$ where $m_0 = (a_0 + b_0)/2$ is the midpoint.\n",
    "3. Determine the next sub-interval $[a_1,b_1]$:\n",
    "  * If $f(a_0)f(m_0) < 0$ (different signs) then $a_1 = a_0$ and $b_1 = m_0$ (i.e. focus on the range $[a_0,m_0]$).\n",
    "  * If $f(m_0)f(b_0) < 0$ (different signs) then $a_1 = m_0$ and $b_1 = b_0$ (i.e. focus on the range $[m_0,b_0]$).\n",
    "4. Repeat step 2 and step 3 until $|f(m_k)| < \\epsilon$."
   ]
  },
  {
   "cell_type": "markdown",
   "id": "e7885b9e",
   "metadata": {},
   "source": [
    "Do not alter the function bisection"
   ]
  },
  {
   "cell_type": "code",
   "execution_count": 30,
   "id": "d322f797",
   "metadata": {},
   "outputs": [],
   "source": [
    "def bisection(f, a, b, tol=1e-10, max_iter=500):\n",
    "    fa, fb = f(a), f(b)\n",
    "    if np.isnan(fa) or np.isnan(fb):\n",
    "        raise ValueError(\"f(a) or f(b) is NaN.\")\n",
    "    if fa == 0.0: \n",
    "        return a, 0\n",
    "    if fb == 0.0: \n",
    "        return b, 0\n",
    "    if fa*fb > 0:\n",
    "        raise ValueError(\"Bisection: root not bracketed. Choose a,b with opposite signs.\")\n",
    "    it = 0\n",
    "    while (b - a) > tol and it < max_iter:\n",
    "        m  = 0.5*(a + b)\n",
    "        fm = f(m)\n",
    "        if fm == 0.0:\n",
    "            a = b = m\n",
    "            break\n",
    "        if fa*fm < 0:\n",
    "            b, fb = m, fm\n",
    "        else:\n",
    "            a, fa = m, fm\n",
    "        it += 1\n",
    "    return 0.5*(a + b), it"
   ]
  },
  {
   "cell_type": "markdown",
   "id": "7d5cf4ad",
   "metadata": {},
   "source": [
    "Write your code in the next code block"
   ]
  },
  {
   "cell_type": "code",
   "execution_count": 32,
   "id": "aeb8ce5b",
   "metadata": {},
   "outputs": [
    {
     "name": "stdout",
     "output_type": "stream",
     "text": [
      "Bisection: x1*=5.0000017329, x2*=2.4999991336, iterations=53\n"
     ]
    }
   ],
   "source": [
    "# Set up the function F(c1) = 0 to solve for c1*\n",
    "## write your functions here\n",
    "# Budget-implied c2(c1)\n",
    "def c2_of(c1, I=I, p1=p1, p2=p2):\n",
    "    return (I - p1*c1)/p2\n",
    "\n",
    "# FOC in one equation: MRS(c1) - p1/p2 = 0, where for CES\n",
    "# MRS = (alpha/(1-alpha)) * (c1/c2)^(beta - 1)\n",
    "def F(c1, alpha=alpha, beta=beta, I=I, p1=p1, p2=p2):\n",
    "    c2 = c2_of(c1, I=I, p1=p1, p2=p2)\n",
    "    # keep bisection inside the feasible open interval\n",
    "    if c1 <= 0 or c2 <= 0:\n",
    "        # return a sign that nudges the search back inside\n",
    "        return np.sign(c1 - (I/p1)/2.0)\n",
    "    return (alpha/(1.0 - alpha)) * ((c1 / c2)**(beta - 1.0)) - (p1/p2)\n",
    "\n",
    "# Choose a bracket around the known solution\n",
    "eps   = 1e-8\n",
    "a_bis = eps\n",
    "b_bis = I/p1 - eps\n",
    "\n",
    "# set the tolerance and the maximum number of iterations\n",
    "tol       = 1e-15\n",
    "max_iter  = 500\n",
    "\n",
    "# run the bisection method and print the solution\n",
    "x1_bis, it_bis = bisection(F, a_bis, b_bis, tol=tol, max_iter=max_iter)\n",
    "x2_bis = c2_of(x1_bis, I=I, p1=p1, p2=p2)\n",
    "print(f\"Bisection: x1*={x1_bis:.10f}, x2*={x2_bis:.10f}, iterations={it_bis}\")"
   ]
  },
  {
   "cell_type": "code",
   "execution_count": null,
   "id": "928684c2",
   "metadata": {},
   "outputs": [
    {
     "name": "stdout",
     "output_type": "stream",
     "text": [
      "Bisection: x1*=5.0000017329, x2*=2.4999991336, iterations=53\n"
     ]
    },
    {
     "data": {
      "text/plain": [
       "<module 'A3_2' from 'c:\\\\Users\\\\jfn232\\\\Dropbox\\\\CPH\\\\01_Teaching\\\\winter_term25\\\\ProgEcon-exercises-private\\\\PS_Optimization\\\\A3_2.py'>"
      ]
     },
     "execution_count": 30,
     "metadata": {},
     "output_type": "execute_result"
    }
   ],
   "source": [
    "# import importlib, A3_2\n",
    "# importlib.reload(A3_2)   # pick up the change"
   ]
  },
  {
   "cell_type": "markdown",
   "id": "91becfa0",
   "metadata": {},
   "source": [
    "### <a id='toc3_3_'></a>[3.3 Newton's Method](#toc0_)\n",
    "\n",
    "Apply Newton on $ F(c_1)=0 $ where $F$ is defined above.  \n",
    "We compute $ F'(c_1)$ analytically for the CES consumer problem:\n",
    "\n",
    "**Fully expanded form**\n",
    "$\n",
    "F'(c_1)\\;=\\;-\\;\\frac{\\alpha}{1-\\alpha}\\,(\\beta+1)\\,\\frac{I}{p_2\\,c_1^{2}}\n",
    "\\left(\\frac{I-p_1 c_1}{p_2\\,c_1}\\right)^{\\beta}.\n",
    "$"
   ]
  },
  {
   "cell_type": "code",
   "execution_count": 34,
   "id": "87b21128",
   "metadata": {},
   "outputs": [
    {
     "name": "stdout",
     "output_type": "stream",
     "text": [
      "Newton: x1*=4.9999982671, x2*=2.5000008664, iterations=6\n"
     ]
    }
   ],
   "source": [
    "### Write your code here ###\n",
    "\n",
    "## Hint: use F from the exercise above, define Fprime (the expanded form from above) as a function,\n",
    "#  and use the Newton function from the lecture.\n",
    "\n",
    "def c2_of(c1, I=I, p1=p1, p2=p2):\n",
    "    return (I - p1*c1)/p2\n",
    "\n",
    "# FOC as single equation:\n",
    "def F(c1, alpha=alpha, beta=beta, I=I, p1=p1, p2=p2):\n",
    "    c2 = c2_of(c1, I=I, p1=p1, p2=p2)\n",
    "    if c1 <= 0 or c2 <= 0:\n",
    "        return np.sign(c1 - (I/p1)/2.0)  # keep search interior\n",
    "    return (alpha/(1.0 - alpha)) * ((c2 / c1)**(beta + 1.0)) - (p1/p2)\n",
    "\n",
    "# Analytic derivative:\n",
    "# F'(x1) = - (alpha/(1-alpha)) * (beta+1) * [ I / (p2 * x1^2 ) ] * (x2/x1)^{beta}\n",
    "def Fprime(x1, alpha=alpha, beta=beta):\n",
    "    c2 = c2_of(x1)                       # <- fixed (was x2_of)\n",
    "    if x1 <= 0 or c2 <= 0:\n",
    "        return -1.0\n",
    "    s = alpha / (1.0 - alpha)\n",
    "    return - s * (beta + 1.0) * (I / (p2 * x1**2)) * ((c2 / x1)**beta)\n",
    "\n",
    "# Minimal Newton solver\n",
    "def find_root(x0, f, df, tol=1e-12, max_iter=200):\n",
    "    x = float(x0)\n",
    "    for it in range(1, max_iter+1):\n",
    "        fx, dfx = f(x), df(x)\n",
    "        if not np.isfinite(fx) or not np.isfinite(dfx) or dfx == 0:\n",
    "            x = 0.5*(x + 0.5*I/p1)  # gentle fallback\n",
    "            continue\n",
    "        x_new = x - fx/dfx\n",
    "        if x_new <= 0 or x_new >= I/p1 or not np.isfinite(x_new):\n",
    "            x_new = 0.5*(x + 0.5*I/p1)\n",
    "        if abs(x_new - x) < tol:\n",
    "            return x_new, it\n",
    "        x = x_new\n",
    "    return x, max_iter\n",
    "\n",
    "# Run Newton\n",
    "x0 = 0.4 * (I/p1)\n",
    "x1_newt, it_newt = find_root(x0, F, Fprime, tol=1e-12)\n",
    "x2_newt = c2_of(x1_newt)\n",
    "\n",
    "print(f\"Newton: x1*={x1_newt:.10f}, x2*={x2_newt:.10f}, iterations={it_newt}\")\n"
   ]
  },
  {
   "cell_type": "code",
   "execution_count": null,
   "id": "04d3f5a6",
   "metadata": {},
   "outputs": [
    {
     "name": "stdout",
     "output_type": "stream",
     "text": [
      "Newton: x1*=4.9999982671, x2*=2.5000008664, iterations=6\n"
     ]
    },
    {
     "data": {
      "text/plain": [
       "<module 'A3_3' from 'c:\\\\Users\\\\jfn232\\\\Dropbox\\\\CPH\\\\01_Teaching\\\\winter_term25\\\\ProgEcon-exercises-private\\\\PS_Optimization\\\\A3_3.py'>"
      ]
     },
     "execution_count": 32,
     "metadata": {},
     "output_type": "execute_result"
    }
   ],
   "source": [
    "# import importlib, A3_3\n",
    "# importlib.reload(A3_3)   # pick up the change "
   ]
  },
  {
   "cell_type": "markdown",
   "id": "8260192f",
   "metadata": {},
   "source": [
    "### <a id='toc3_4_'></a>[3.4 scipy.optimize](#toc0_)\n",
    "\n",
    "Solve the consumer problem now using the scipy.minimize_scalar function. Define adequate bounds.\n",
    "\n",
    "Define an objective function! Then minimize it. Do it by calling the minimize_scaler from the optimize package. Since we are solving for single value, we can use the $minimize_scalar$. If we are solving for more parameters, i.e, both $x_1$ and $x_2$, we would have to write up the full minimize function. \n",
    "\n",
    "Help can be found in Lectures -> 07_Opti -> O1_Optimazation\n"
   ]
  },
  {
   "cell_type": "code",
   "execution_count": null,
   "id": "2f84c13f",
   "metadata": {},
   "outputs": [
    {
     "name": "stdout",
     "output_type": "stream",
     "text": [
      "4.99995818905239 2.500020905473805 3.535533693620822\n"
     ]
    }
   ],
   "source": [
    "def value_of_choice_ces(x1,alpha,beta,I,p1,p2):\n",
    "    x2 = (I-p1*x1)/p2\n",
    "    u = utility_ces(x1,x2,alpha,beta)\n",
    "    return u\n",
    "\n",
    "# c. objective\n",
    "obj = lambda x1: -value_of_choice_ces(x1,alpha,beta,I,p1,p2)\n",
    "\n",
    "# d. solve\n",
    "solution = optimize.minimize_scalar(obj,bounds=(0,I/p1))\n",
    "\n",
    "# e. result\n",
    "u_ces = -solution.fun\n",
    "x1_ces = solution.x\n",
    "x2_ces = (I-x1_ces*p1)/p2\n",
    "print(x1_ces,x2_ces,u_ces)"
   ]
  },
  {
   "cell_type": "markdown",
   "id": "25de87c3",
   "metadata": {},
   "source": [
    "\n",
    "## <a id='toc4_'></a>[4. Other Optimizers - Comparing Methods (more difficult)](#toc0_)\n",
    "\n",
    "Solve the problem now with *SLSQP* and compare the number of iterations, function evaluations, speed, and precision with *Nelder-Mead*.\n",
    "\n",
    "The first part of the answer is just a way to compare. When looking at the answer, there is a time function. This just measures the time it takes to run it. Time is a valueable asset when running larger models in for larger projects(eg. your thesis or seminar papers)\n"
   ]
  },
  {
   "cell_type": "code",
   "execution_count": null,
   "id": "8b644aa1",
   "metadata": {},
   "outputs": [],
   "source": [
    "def c2_of(x1):\n",
    "    return (I - p1*x1) / p2\n",
    "\n",
    "# closed-form optimum for a precision check\n",
    "kappa   = ((p1/p2) * (1 - alpha) / alpha) ** (1.0 / (beta + 1.0))   # x2/x1\n",
    "x1_star = I / (p1 + p2 * kappa)\n",
    "\n",
    "# objective along the budget line (penalize infeasible points)\n",
    "def obj(x, alpha, beta):\n",
    "    x1 = float(x[0])\n",
    "    x2 = c2_of(x1)\n",
    "    if x1 <= 0 or x1 >= I/p1 or x2 <= 0:\n",
    "        return 1e12\n",
    "    return -utility_ces(x1, x2, alpha, beta)\n",
    "\n",
    "x0 = np.array([I / (2 * p1)])\n",
    "\n",
    "# SLSQP (bounded)\n",
    "t0 = time.perf_counter()\n",
    "res_slsqp = optimize.minimize(\n",
    "    obj, x0=x0, args=(alpha, beta),\n",
    "    bounds=[(eps, I/p1 - eps)], method=\"SLSQP\"\n",
    ")\n",
    "t1 = time.perf_counter()\n",
    "x1_s = float(res_slsqp.x[0]); x2_s = c2_of(x1_s)\n",
    "print(\n",
    "    f\"SLSQP       x1*={x1_s:.10f}  \"\n",
    "    f\"u={utility_ces(x1_s, x2_s, alpha, beta):.10f}  \"\n",
    "    f\"nit={res_slsqp.nit}  nfev={res_slsqp.nfev}  time={(t1-t0)*1e3:.1f} ms  \"\n",
    "    f\"error={abs(x1_s - x1_star):.2e}\"\n",
    ")\n",
    "\n",
    "# Nelder–Mead (unconstrained; same penalized objective)\n",
    "t0 = time.perf_counter()\n",
    "res_nm = optimize.minimize(obj, x0=x0, args=(alpha, beta), method=\"Nelder-Mead\")\n",
    "t1 = time.perf_counter()\n",
    "x1_n = float(res_nm.x[0]); x2_n = c2_of(x1_n)\n",
    "print(\n",
    "    f\"Nelder-Mead x1*={x1_n:.10f}  \"\n",
    "    f\"u={utility_ces(x1_n, x2_n, alpha, beta):.10f}  \"\n",
    "    f\"nit={res_nm.nit}  nfev={res_nm.nfev}  time={(t1-t0)*1e3:.1f} ms  \"\n",
    "    f\"error={abs(x1_n - x1_star):.2e}\"\n",
    ")"
   ]
  },
  {
   "cell_type": "code",
   "execution_count": null,
   "id": "1f19676e",
   "metadata": {},
   "outputs": [
    {
     "name": "stdout",
     "output_type": "stream",
     "text": [
      "SLSQP       x1*=5.0000000000  u=3.5355336936  nit=1  nfev=2  time=0.7 ms  error=1.73e-06\n",
      "Nelder-Mead x1*=5.0000000000  u=3.5355336936  nit=13  nfev=26  time=1.0 ms  error=1.73e-06\n"
     ]
    },
    {
     "data": {
      "text/plain": [
       "<module 'A4' from 'c:\\\\Users\\\\jfn232\\\\Dropbox\\\\CPH\\\\01_Teaching\\\\winter_term25\\\\ProgEcon-exercises-private\\\\PS_Optimization\\\\A4.py'>"
      ]
     },
     "execution_count": 36,
     "metadata": {},
     "output_type": "execute_result"
    }
   ],
   "source": [
    "# import importlib, A4\n",
    "# importlib.reload(A4)   # pick up the change"
   ]
  },
  {
   "cell_type": "markdown",
   "id": "fae8428a",
   "metadata": {},
   "source": [
    "## <a id='toc5_'></a>[5. Sensitivity: Price shock](#toc0_)\n",
    "\n",
    "- Now, assume that the price p1 doubles. Recompute (x1_star, x2_star, u_star) for each $\\beta$.\n",
    "- For each $\\beta$, compute percentage changes relative to baseline.\n",
    "- Plot two panels, where panel A contains quantities (the percentage change in x1_star and x2_star) and panel B contains the percentage change in u_star.\n",
    "- Interpretation: Briefly explain how the substitution elasticity (lower beta) shapes x1_star, x2_star, and the utility."
   ]
  },
  {
   "cell_type": "markdown",
   "id": "95283245",
   "metadata": {},
   "source": [
    "Try for yourselves, but otherwise look at the answer"
   ]
  },
  {
   "cell_type": "code",
   "execution_count": null,
   "id": "78c55355",
   "metadata": {},
   "outputs": [
    {
     "data": {
      "image/png": "[encoded data removed]",
      "text/plain": [
       "<Figure size 900x400 with 2 Axes>"
      ]
     },
     "metadata": {},
     "output_type": "display_data"
    }
   ],
   "source": [
    "betas = np.array([0.1, 0.3, 0.5, 0.7, 0.9])  # five beta values in (0,1)\n",
    "\n",
    "# ----- helpers -----\n",
    "def sigma_from_beta(beta):\n",
    "    # elasticity of substitution\n",
    "    return 1.0 / (1.0 + beta)\n",
    "\n",
    "def ces_demands(I, p1, p2, alpha, beta):\n",
    "    \"\"\"\n",
    "    Returns (x1_star, x2_star, u_star, s1, s2) using CES duality.\n",
    "\n",
    "    Indirect utility: u_star = I / C(p),\n",
    "    where C(p) = [ alpha^sigma * p1^(1 - sigma) + (1 - alpha)^sigma * p2^(1 - sigma) ]^(1 / (1 - sigma))\n",
    "\n",
    "    Budget shares:\n",
    "      s1 = alpha^sigma * p1^(1 - sigma) / denom\n",
    "      s2 = 1 - s1\n",
    "    \"\"\"\n",
    "    sigma = sigma_from_beta(beta)\n",
    "    denom = (alpha**sigma) * (p1**(1.0 - sigma)) + ((1.0 - alpha)**sigma) * (p2**(1.0 - sigma))\n",
    "    s1 = (alpha**sigma) * (p1**(1.0 - sigma)) / denom\n",
    "    s2 = 1.0 - s1\n",
    "    x1 = (I / p1) * s1\n",
    "    x2 = (I / p2) * s2\n",
    "    C  = denom**(1.0 / (1.0 - sigma))\n",
    "    u  = I / C\n",
    "    return x1, x2, u, s1, s2\n",
    "\n",
    "# ----- baseline vs. shock (p1 doubles) -----\n",
    "base = np.array([ces_demands(I, p1,p2, alpha, b) for b in betas]).T\n",
    "shck = np.array([ces_demands(I, 2.0*p1, p2, alpha, b) for b in betas]).T\n",
    "\n",
    "x1_b, x2_b, u_b = base[0], base[1], base[2]\n",
    "x1_s, x2_s, u_s = shck[0], shck[1], shck[2]\n",
    "\n",
    "pct = lambda new, old: 100.0 * (new - old) / old\n",
    "d_x1 = pct(x1_s, x1_b)\n",
    "d_x2 = pct(x2_s, x2_b)\n",
    "d_u  = pct(u_s,  u_b)\n",
    "\n",
    "# ----- plots -----\n",
    "\n",
    "# plots\n",
    "fig, axs = plt.subplots(1, 2, figsize=(9, 4), sharex=True)\n",
    "\n",
    "# Panel A: quantities\n",
    "axs[0].plot(betas, d_x1, marker='o', label='% change in x1_star')\n",
    "axs[0].plot(betas, d_x2, marker='o', label='% change in x2_star')\n",
    "axs[0].set_title('Quantities after p1 doubles')\n",
    "axs[0].set_xlabel('beta  (lower beta -> higher sigma)')\n",
    "axs[0].set_ylabel('% change from baseline')\n",
    "axs[0].axhline(0, linewidth=1)\n",
    "axs[0].yaxis.set_major_formatter(PercentFormatter())\n",
    "axs[0].set_xticks(betas.tolist())\n",
    "axs[0].grid(True, alpha=0.3)\n",
    "axs[0].legend(frameon=False)\n",
    "\n",
    "# Panel B: utility\n",
    "axs[1].plot(betas, d_u, marker='o', label='% change in u_star')\n",
    "axs[1].set_title('Utility after p1 doubles')\n",
    "axs[1].set_xlabel('beta')\n",
    "axs[1].set_ylabel('% change')\n",
    "axs[1].axhline(0, linewidth=1)\n",
    "axs[1].yaxis.set_major_formatter(PercentFormatter())\n",
    "axs[1].set_xticks(betas.tolist())\n",
    "axs[1].grid(True, alpha=0.3)\n",
    "axs[1].legend(frameon=False)\n",
    "\n",
    "plt.tight_layout()\n",
    "plt.show()"
   ]
  },
  {
   "cell_type": "code",
   "execution_count": null,
   "id": "ace1221f",
   "metadata": {},
   "outputs": [
    {
     "data": {
      "image/png": "[encoded data removed]",
      "text/plain": [
       "<Figure size 900x400 with 2 Axes>"
      ]
     },
     "metadata": {},
     "output_type": "display_data"
    },
    {
     "data": {
      "text/plain": [
       "<module 'A5' from 'c:\\\\Users\\\\jfn232\\\\Dropbox\\\\CPH\\\\01_Teaching\\\\winter_term25\\\\ProgEcon-exercises-private\\\\PS_Optimization\\\\A5.py'>"
      ]
     },
     "execution_count": 39,
     "metadata": {},
     "output_type": "execute_result"
    }
   ],
   "source": [
    "# import importlib, A5\n",
    "# importlib.reload(A5)   # pick up the change"
   ]
  },
  {
   "cell_type": "markdown",
   "id": "93b06643",
   "metadata": {},
   "source": [
    "## <a id='toc6_'></a>[6. Sensitivity: Starting Values & Solver Choices](#toc0_)\n",
    "\n",
    "- Try different starting values for Newton and `minimize`.\n",
    "- Discuss your main observations and take-aways regarding number of iterations and function evaluations.\n",
    "- Which one was your favorite solver in this application? Why?\n"
   ]
  },
  {
   "cell_type": "markdown",
   "id": "12d6d2f3",
   "metadata": {},
   "source": [
    "Use most of your time on the solver. Make sure, you understand this. Try writing it with different $x_0$, different tolerance etc. "
   ]
  },
  {
   "cell_type": "code",
   "execution_count": 41,
   "id": "e97efecf",
   "metadata": {},
   "outputs": [],
   "source": [
    "\n",
    "# Try out and discuss"
   ]
  }
 ],
 "metadata": {
  "kernelspec": {
   "display_name": "base",
   "language": "python",
   "name": "python3"
  },
  "language_info": {
   "codemirror_mode": {
    "name": "ipython",
    "version": 3
   },
   "file_extension": ".py",
   "mimetype": "text/x-python",
   "name": "python",
   "nbconvert_exporter": "python",
   "pygments_lexer": "ipython3",
   "version": "3.12.7"
  }
 },
 "nbformat": 4,
 "nbformat_minor": 5
}
